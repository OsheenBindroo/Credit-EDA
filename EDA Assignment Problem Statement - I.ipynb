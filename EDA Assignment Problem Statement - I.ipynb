{
 "cells": [
  {
   "cell_type": "markdown",
   "id": "0ffc23bb",
   "metadata": {},
   "source": [
    "# Problem Statement - I"
   ]
  },
  {
   "cell_type": "code",
   "execution_count": 2,
   "id": "0a410faa",
   "metadata": {},
   "outputs": [],
   "source": [
    "#Importing all the essential libraries such as NumPy, Pandas, Matplotlib, and warnings\n",
    "import numpy as np   \n",
    "import pandas as pd\n",
    "import matplotlib.pyplot as plt\n",
    "%matplotlib inline\n",
    "import seaborn as sns\n",
    "\n",
    "import warnings   \n",
    "warnings.filterwarnings(\"ignore\")"
   ]
  },
  {
   "cell_type": "markdown",
   "id": "4c53bd46",
   "metadata": {},
   "source": [
    "### Step 1 - Understanding the data "
   ]
  },
  {
   "cell_type": "code",
   "execution_count": 3,
   "id": "50415707",
   "metadata": {},
   "outputs": [
    {
     "data": {
      "text/plain": [
       "(307511, 122)"
      ]
     },
     "execution_count": 3,
     "metadata": {},
     "output_type": "execute_result"
    }
   ],
   "source": [
    "#importing csv and checking the rows and columns of the dataset\n",
    "data1 = pd.read_csv(\"application_data.csv\")\n",
    "data1.shape"
   ]
  },
  {
   "cell_type": "code",
   "execution_count": 4,
   "id": "65d74413",
   "metadata": {},
   "outputs": [
    {
     "name": "stdout",
     "output_type": "stream",
     "text": [
      "<class 'pandas.core.frame.DataFrame'>\n",
      "RangeIndex: 307511 entries, 0 to 307510\n",
      "Data columns (total 122 columns):\n",
      " #    Column                        Dtype  \n",
      "---   ------                        -----  \n",
      " 0    SK_ID_CURR                    int64  \n",
      " 1    TARGET                        int64  \n",
      " 2    NAME_CONTRACT_TYPE            object \n",
      " 3    CODE_GENDER                   object \n",
      " 4    FLAG_OWN_CAR                  object \n",
      " 5    FLAG_OWN_REALTY               object \n",
      " 6    CNT_CHILDREN                  int64  \n",
      " 7    AMT_INCOME_TOTAL              float64\n",
      " 8    AMT_CREDIT                    float64\n",
      " 9    AMT_ANNUITY                   float64\n",
      " 10   AMT_GOODS_PRICE               float64\n",
      " 11   NAME_TYPE_SUITE               object \n",
      " 12   NAME_INCOME_TYPE              object \n",
      " 13   NAME_EDUCATION_TYPE           object \n",
      " 14   NAME_FAMILY_STATUS            object \n",
      " 15   NAME_HOUSING_TYPE             object \n",
      " 16   REGION_POPULATION_RELATIVE    float64\n",
      " 17   DAYS_BIRTH                    int64  \n",
      " 18   DAYS_EMPLOYED                 int64  \n",
      " 19   DAYS_REGISTRATION             float64\n",
      " 20   DAYS_ID_PUBLISH               int64  \n",
      " 21   OWN_CAR_AGE                   float64\n",
      " 22   FLAG_MOBIL                    int64  \n",
      " 23   FLAG_EMP_PHONE                int64  \n",
      " 24   FLAG_WORK_PHONE               int64  \n",
      " 25   FLAG_CONT_MOBILE              int64  \n",
      " 26   FLAG_PHONE                    int64  \n",
      " 27   FLAG_EMAIL                    int64  \n",
      " 28   OCCUPATION_TYPE               object \n",
      " 29   CNT_FAM_MEMBERS               float64\n",
      " 30   REGION_RATING_CLIENT          int64  \n",
      " 31   REGION_RATING_CLIENT_W_CITY   int64  \n",
      " 32   WEEKDAY_APPR_PROCESS_START    object \n",
      " 33   HOUR_APPR_PROCESS_START       int64  \n",
      " 34   REG_REGION_NOT_LIVE_REGION    int64  \n",
      " 35   REG_REGION_NOT_WORK_REGION    int64  \n",
      " 36   LIVE_REGION_NOT_WORK_REGION   int64  \n",
      " 37   REG_CITY_NOT_LIVE_CITY        int64  \n",
      " 38   REG_CITY_NOT_WORK_CITY        int64  \n",
      " 39   LIVE_CITY_NOT_WORK_CITY       int64  \n",
      " 40   ORGANIZATION_TYPE             object \n",
      " 41   EXT_SOURCE_1                  float64\n",
      " 42   EXT_SOURCE_2                  float64\n",
      " 43   EXT_SOURCE_3                  float64\n",
      " 44   APARTMENTS_AVG                float64\n",
      " 45   BASEMENTAREA_AVG              float64\n",
      " 46   YEARS_BEGINEXPLUATATION_AVG   float64\n",
      " 47   YEARS_BUILD_AVG               float64\n",
      " 48   COMMONAREA_AVG                float64\n",
      " 49   ELEVATORS_AVG                 float64\n",
      " 50   ENTRANCES_AVG                 float64\n",
      " 51   FLOORSMAX_AVG                 float64\n",
      " 52   FLOORSMIN_AVG                 float64\n",
      " 53   LANDAREA_AVG                  float64\n",
      " 54   LIVINGAPARTMENTS_AVG          float64\n",
      " 55   LIVINGAREA_AVG                float64\n",
      " 56   NONLIVINGAPARTMENTS_AVG       float64\n",
      " 57   NONLIVINGAREA_AVG             float64\n",
      " 58   APARTMENTS_MODE               float64\n",
      " 59   BASEMENTAREA_MODE             float64\n",
      " 60   YEARS_BEGINEXPLUATATION_MODE  float64\n",
      " 61   YEARS_BUILD_MODE              float64\n",
      " 62   COMMONAREA_MODE               float64\n",
      " 63   ELEVATORS_MODE                float64\n",
      " 64   ENTRANCES_MODE                float64\n",
      " 65   FLOORSMAX_MODE                float64\n",
      " 66   FLOORSMIN_MODE                float64\n",
      " 67   LANDAREA_MODE                 float64\n",
      " 68   LIVINGAPARTMENTS_MODE         float64\n",
      " 69   LIVINGAREA_MODE               float64\n",
      " 70   NONLIVINGAPARTMENTS_MODE      float64\n",
      " 71   NONLIVINGAREA_MODE            float64\n",
      " 72   APARTMENTS_MEDI               float64\n",
      " 73   BASEMENTAREA_MEDI             float64\n",
      " 74   YEARS_BEGINEXPLUATATION_MEDI  float64\n",
      " 75   YEARS_BUILD_MEDI              float64\n",
      " 76   COMMONAREA_MEDI               float64\n",
      " 77   ELEVATORS_MEDI                float64\n",
      " 78   ENTRANCES_MEDI                float64\n",
      " 79   FLOORSMAX_MEDI                float64\n",
      " 80   FLOORSMIN_MEDI                float64\n",
      " 81   LANDAREA_MEDI                 float64\n",
      " 82   LIVINGAPARTMENTS_MEDI         float64\n",
      " 83   LIVINGAREA_MEDI               float64\n",
      " 84   NONLIVINGAPARTMENTS_MEDI      float64\n",
      " 85   NONLIVINGAREA_MEDI            float64\n",
      " 86   FONDKAPREMONT_MODE            object \n",
      " 87   HOUSETYPE_MODE                object \n",
      " 88   TOTALAREA_MODE                float64\n",
      " 89   WALLSMATERIAL_MODE            object \n",
      " 90   EMERGENCYSTATE_MODE           object \n",
      " 91   OBS_30_CNT_SOCIAL_CIRCLE      float64\n",
      " 92   DEF_30_CNT_SOCIAL_CIRCLE      float64\n",
      " 93   OBS_60_CNT_SOCIAL_CIRCLE      float64\n",
      " 94   DEF_60_CNT_SOCIAL_CIRCLE      float64\n",
      " 95   DAYS_LAST_PHONE_CHANGE        float64\n",
      " 96   FLAG_DOCUMENT_2               int64  \n",
      " 97   FLAG_DOCUMENT_3               int64  \n",
      " 98   FLAG_DOCUMENT_4               int64  \n",
      " 99   FLAG_DOCUMENT_5               int64  \n",
      " 100  FLAG_DOCUMENT_6               int64  \n",
      " 101  FLAG_DOCUMENT_7               int64  \n",
      " 102  FLAG_DOCUMENT_8               int64  \n",
      " 103  FLAG_DOCUMENT_9               int64  \n",
      " 104  FLAG_DOCUMENT_10              int64  \n",
      " 105  FLAG_DOCUMENT_11              int64  \n",
      " 106  FLAG_DOCUMENT_12              int64  \n",
      " 107  FLAG_DOCUMENT_13              int64  \n",
      " 108  FLAG_DOCUMENT_14              int64  \n",
      " 109  FLAG_DOCUMENT_15              int64  \n",
      " 110  FLAG_DOCUMENT_16              int64  \n",
      " 111  FLAG_DOCUMENT_17              int64  \n",
      " 112  FLAG_DOCUMENT_18              int64  \n",
      " 113  FLAG_DOCUMENT_19              int64  \n",
      " 114  FLAG_DOCUMENT_20              int64  \n",
      " 115  FLAG_DOCUMENT_21              int64  \n",
      " 116  AMT_REQ_CREDIT_BUREAU_HOUR    float64\n",
      " 117  AMT_REQ_CREDIT_BUREAU_DAY     float64\n",
      " 118  AMT_REQ_CREDIT_BUREAU_WEEK    float64\n",
      " 119  AMT_REQ_CREDIT_BUREAU_MON     float64\n",
      " 120  AMT_REQ_CREDIT_BUREAU_QRT     float64\n",
      " 121  AMT_REQ_CREDIT_BUREAU_YEAR    float64\n",
      "dtypes: float64(65), int64(41), object(16)\n",
      "memory usage: 286.2+ MB\n"
     ]
    }
   ],
   "source": [
    "#Inspecting the details of all columns, such as their data types.\n",
    "data1.info(\"all\")"
   ]
  },
  {
   "cell_type": "markdown",
   "id": "bb3a21ce",
   "metadata": {},
   "source": [
    "#### Key Takeaways"
   ]
  },
  {
   "cell_type": "markdown",
   "id": "5a731d62",
   "metadata": {},
   "source": [
    " There are 305711 rows and 122 columns of several data types, including object, integer, and float."
   ]
  },
  {
   "cell_type": "code",
   "execution_count": 5,
   "id": "76d6e8ac",
   "metadata": {},
   "outputs": [
    {
     "data": {
      "text/html": [
       "<div>\n",
       "<style scoped>\n",
       "    .dataframe tbody tr th:only-of-type {\n",
       "        vertical-align: middle;\n",
       "    }\n",
       "\n",
       "    .dataframe tbody tr th {\n",
       "        vertical-align: top;\n",
       "    }\n",
       "\n",
       "    .dataframe thead th {\n",
       "        text-align: right;\n",
       "    }\n",
       "</style>\n",
       "<table border=\"1\" class=\"dataframe\">\n",
       "  <thead>\n",
       "    <tr style=\"text-align: right;\">\n",
       "      <th></th>\n",
       "      <th>SK_ID_CURR</th>\n",
       "      <th>TARGET</th>\n",
       "      <th>NAME_CONTRACT_TYPE</th>\n",
       "      <th>CODE_GENDER</th>\n",
       "      <th>FLAG_OWN_CAR</th>\n",
       "      <th>FLAG_OWN_REALTY</th>\n",
       "      <th>CNT_CHILDREN</th>\n",
       "      <th>AMT_INCOME_TOTAL</th>\n",
       "      <th>AMT_CREDIT</th>\n",
       "      <th>AMT_ANNUITY</th>\n",
       "      <th>...</th>\n",
       "      <th>FLAG_DOCUMENT_18</th>\n",
       "      <th>FLAG_DOCUMENT_19</th>\n",
       "      <th>FLAG_DOCUMENT_20</th>\n",
       "      <th>FLAG_DOCUMENT_21</th>\n",
       "      <th>AMT_REQ_CREDIT_BUREAU_HOUR</th>\n",
       "      <th>AMT_REQ_CREDIT_BUREAU_DAY</th>\n",
       "      <th>AMT_REQ_CREDIT_BUREAU_WEEK</th>\n",
       "      <th>AMT_REQ_CREDIT_BUREAU_MON</th>\n",
       "      <th>AMT_REQ_CREDIT_BUREAU_QRT</th>\n",
       "      <th>AMT_REQ_CREDIT_BUREAU_YEAR</th>\n",
       "    </tr>\n",
       "  </thead>\n",
       "  <tbody>\n",
       "    <tr>\n",
       "      <th>0</th>\n",
       "      <td>100002</td>\n",
       "      <td>1</td>\n",
       "      <td>Cash loans</td>\n",
       "      <td>M</td>\n",
       "      <td>N</td>\n",
       "      <td>Y</td>\n",
       "      <td>0</td>\n",
       "      <td>202500.0</td>\n",
       "      <td>406597.5</td>\n",
       "      <td>24700.5</td>\n",
       "      <td>...</td>\n",
       "      <td>0</td>\n",
       "      <td>0</td>\n",
       "      <td>0</td>\n",
       "      <td>0</td>\n",
       "      <td>0.0</td>\n",
       "      <td>0.0</td>\n",
       "      <td>0.0</td>\n",
       "      <td>0.0</td>\n",
       "      <td>0.0</td>\n",
       "      <td>1.0</td>\n",
       "    </tr>\n",
       "    <tr>\n",
       "      <th>1</th>\n",
       "      <td>100003</td>\n",
       "      <td>0</td>\n",
       "      <td>Cash loans</td>\n",
       "      <td>F</td>\n",
       "      <td>N</td>\n",
       "      <td>N</td>\n",
       "      <td>0</td>\n",
       "      <td>270000.0</td>\n",
       "      <td>1293502.5</td>\n",
       "      <td>35698.5</td>\n",
       "      <td>...</td>\n",
       "      <td>0</td>\n",
       "      <td>0</td>\n",
       "      <td>0</td>\n",
       "      <td>0</td>\n",
       "      <td>0.0</td>\n",
       "      <td>0.0</td>\n",
       "      <td>0.0</td>\n",
       "      <td>0.0</td>\n",
       "      <td>0.0</td>\n",
       "      <td>0.0</td>\n",
       "    </tr>\n",
       "    <tr>\n",
       "      <th>2</th>\n",
       "      <td>100004</td>\n",
       "      <td>0</td>\n",
       "      <td>Revolving loans</td>\n",
       "      <td>M</td>\n",
       "      <td>Y</td>\n",
       "      <td>Y</td>\n",
       "      <td>0</td>\n",
       "      <td>67500.0</td>\n",
       "      <td>135000.0</td>\n",
       "      <td>6750.0</td>\n",
       "      <td>...</td>\n",
       "      <td>0</td>\n",
       "      <td>0</td>\n",
       "      <td>0</td>\n",
       "      <td>0</td>\n",
       "      <td>0.0</td>\n",
       "      <td>0.0</td>\n",
       "      <td>0.0</td>\n",
       "      <td>0.0</td>\n",
       "      <td>0.0</td>\n",
       "      <td>0.0</td>\n",
       "    </tr>\n",
       "    <tr>\n",
       "      <th>3</th>\n",
       "      <td>100006</td>\n",
       "      <td>0</td>\n",
       "      <td>Cash loans</td>\n",
       "      <td>F</td>\n",
       "      <td>N</td>\n",
       "      <td>Y</td>\n",
       "      <td>0</td>\n",
       "      <td>135000.0</td>\n",
       "      <td>312682.5</td>\n",
       "      <td>29686.5</td>\n",
       "      <td>...</td>\n",
       "      <td>0</td>\n",
       "      <td>0</td>\n",
       "      <td>0</td>\n",
       "      <td>0</td>\n",
       "      <td>NaN</td>\n",
       "      <td>NaN</td>\n",
       "      <td>NaN</td>\n",
       "      <td>NaN</td>\n",
       "      <td>NaN</td>\n",
       "      <td>NaN</td>\n",
       "    </tr>\n",
       "    <tr>\n",
       "      <th>4</th>\n",
       "      <td>100007</td>\n",
       "      <td>0</td>\n",
       "      <td>Cash loans</td>\n",
       "      <td>M</td>\n",
       "      <td>N</td>\n",
       "      <td>Y</td>\n",
       "      <td>0</td>\n",
       "      <td>121500.0</td>\n",
       "      <td>513000.0</td>\n",
       "      <td>21865.5</td>\n",
       "      <td>...</td>\n",
       "      <td>0</td>\n",
       "      <td>0</td>\n",
       "      <td>0</td>\n",
       "      <td>0</td>\n",
       "      <td>0.0</td>\n",
       "      <td>0.0</td>\n",
       "      <td>0.0</td>\n",
       "      <td>0.0</td>\n",
       "      <td>0.0</td>\n",
       "      <td>0.0</td>\n",
       "    </tr>\n",
       "  </tbody>\n",
       "</table>\n",
       "<p>5 rows × 122 columns</p>\n",
       "</div>"
      ],
      "text/plain": [
       "   SK_ID_CURR  TARGET NAME_CONTRACT_TYPE CODE_GENDER FLAG_OWN_CAR  \\\n",
       "0      100002       1         Cash loans           M            N   \n",
       "1      100003       0         Cash loans           F            N   \n",
       "2      100004       0    Revolving loans           M            Y   \n",
       "3      100006       0         Cash loans           F            N   \n",
       "4      100007       0         Cash loans           M            N   \n",
       "\n",
       "  FLAG_OWN_REALTY  CNT_CHILDREN  AMT_INCOME_TOTAL  AMT_CREDIT  AMT_ANNUITY  \\\n",
       "0               Y             0          202500.0    406597.5      24700.5   \n",
       "1               N             0          270000.0   1293502.5      35698.5   \n",
       "2               Y             0           67500.0    135000.0       6750.0   \n",
       "3               Y             0          135000.0    312682.5      29686.5   \n",
       "4               Y             0          121500.0    513000.0      21865.5   \n",
       "\n",
       "   ...  FLAG_DOCUMENT_18 FLAG_DOCUMENT_19 FLAG_DOCUMENT_20 FLAG_DOCUMENT_21  \\\n",
       "0  ...                 0                0                0                0   \n",
       "1  ...                 0                0                0                0   \n",
       "2  ...                 0                0                0                0   \n",
       "3  ...                 0                0                0                0   \n",
       "4  ...                 0                0                0                0   \n",
       "\n",
       "  AMT_REQ_CREDIT_BUREAU_HOUR AMT_REQ_CREDIT_BUREAU_DAY  \\\n",
       "0                        0.0                       0.0   \n",
       "1                        0.0                       0.0   \n",
       "2                        0.0                       0.0   \n",
       "3                        NaN                       NaN   \n",
       "4                        0.0                       0.0   \n",
       "\n",
       "   AMT_REQ_CREDIT_BUREAU_WEEK  AMT_REQ_CREDIT_BUREAU_MON  \\\n",
       "0                         0.0                        0.0   \n",
       "1                         0.0                        0.0   \n",
       "2                         0.0                        0.0   \n",
       "3                         NaN                        NaN   \n",
       "4                         0.0                        0.0   \n",
       "\n",
       "   AMT_REQ_CREDIT_BUREAU_QRT  AMT_REQ_CREDIT_BUREAU_YEAR  \n",
       "0                        0.0                         1.0  \n",
       "1                        0.0                         0.0  \n",
       "2                        0.0                         0.0  \n",
       "3                        NaN                         NaN  \n",
       "4                        0.0                         0.0  \n",
       "\n",
       "[5 rows x 122 columns]"
      ]
     },
     "execution_count": 5,
     "metadata": {},
     "output_type": "execute_result"
    }
   ],
   "source": [
    "data1.head()"
   ]
  },
  {
   "cell_type": "code",
   "execution_count": 6,
   "id": "ed754e63",
   "metadata": {
    "scrolled": true
   },
   "outputs": [
    {
     "data": {
      "text/html": [
       "<div>\n",
       "<style scoped>\n",
       "    .dataframe tbody tr th:only-of-type {\n",
       "        vertical-align: middle;\n",
       "    }\n",
       "\n",
       "    .dataframe tbody tr th {\n",
       "        vertical-align: top;\n",
       "    }\n",
       "\n",
       "    .dataframe thead th {\n",
       "        text-align: right;\n",
       "    }\n",
       "</style>\n",
       "<table border=\"1\" class=\"dataframe\">\n",
       "  <thead>\n",
       "    <tr style=\"text-align: right;\">\n",
       "      <th></th>\n",
       "      <th>SK_ID_CURR</th>\n",
       "      <th>TARGET</th>\n",
       "      <th>CNT_CHILDREN</th>\n",
       "      <th>AMT_INCOME_TOTAL</th>\n",
       "      <th>AMT_CREDIT</th>\n",
       "      <th>AMT_ANNUITY</th>\n",
       "      <th>AMT_GOODS_PRICE</th>\n",
       "      <th>REGION_POPULATION_RELATIVE</th>\n",
       "      <th>DAYS_BIRTH</th>\n",
       "      <th>DAYS_EMPLOYED</th>\n",
       "      <th>...</th>\n",
       "      <th>FLAG_DOCUMENT_18</th>\n",
       "      <th>FLAG_DOCUMENT_19</th>\n",
       "      <th>FLAG_DOCUMENT_20</th>\n",
       "      <th>FLAG_DOCUMENT_21</th>\n",
       "      <th>AMT_REQ_CREDIT_BUREAU_HOUR</th>\n",
       "      <th>AMT_REQ_CREDIT_BUREAU_DAY</th>\n",
       "      <th>AMT_REQ_CREDIT_BUREAU_WEEK</th>\n",
       "      <th>AMT_REQ_CREDIT_BUREAU_MON</th>\n",
       "      <th>AMT_REQ_CREDIT_BUREAU_QRT</th>\n",
       "      <th>AMT_REQ_CREDIT_BUREAU_YEAR</th>\n",
       "    </tr>\n",
       "  </thead>\n",
       "  <tbody>\n",
       "    <tr>\n",
       "      <th>count</th>\n",
       "      <td>307511.000000</td>\n",
       "      <td>307511.000000</td>\n",
       "      <td>307511.000000</td>\n",
       "      <td>3.075110e+05</td>\n",
       "      <td>3.075110e+05</td>\n",
       "      <td>307499.000000</td>\n",
       "      <td>3.072330e+05</td>\n",
       "      <td>307511.000000</td>\n",
       "      <td>307511.000000</td>\n",
       "      <td>307511.000000</td>\n",
       "      <td>...</td>\n",
       "      <td>307511.000000</td>\n",
       "      <td>307511.000000</td>\n",
       "      <td>307511.000000</td>\n",
       "      <td>307511.000000</td>\n",
       "      <td>265992.000000</td>\n",
       "      <td>265992.000000</td>\n",
       "      <td>265992.000000</td>\n",
       "      <td>265992.000000</td>\n",
       "      <td>265992.000000</td>\n",
       "      <td>265992.000000</td>\n",
       "    </tr>\n",
       "    <tr>\n",
       "      <th>mean</th>\n",
       "      <td>278180.518577</td>\n",
       "      <td>0.080729</td>\n",
       "      <td>0.417052</td>\n",
       "      <td>1.687979e+05</td>\n",
       "      <td>5.990260e+05</td>\n",
       "      <td>27108.573909</td>\n",
       "      <td>5.383962e+05</td>\n",
       "      <td>0.020868</td>\n",
       "      <td>-16036.995067</td>\n",
       "      <td>63815.045904</td>\n",
       "      <td>...</td>\n",
       "      <td>0.008130</td>\n",
       "      <td>0.000595</td>\n",
       "      <td>0.000507</td>\n",
       "      <td>0.000335</td>\n",
       "      <td>0.006402</td>\n",
       "      <td>0.007000</td>\n",
       "      <td>0.034362</td>\n",
       "      <td>0.267395</td>\n",
       "      <td>0.265474</td>\n",
       "      <td>1.899974</td>\n",
       "    </tr>\n",
       "    <tr>\n",
       "      <th>std</th>\n",
       "      <td>102790.175348</td>\n",
       "      <td>0.272419</td>\n",
       "      <td>0.722121</td>\n",
       "      <td>2.371231e+05</td>\n",
       "      <td>4.024908e+05</td>\n",
       "      <td>14493.737315</td>\n",
       "      <td>3.694465e+05</td>\n",
       "      <td>0.013831</td>\n",
       "      <td>4363.988632</td>\n",
       "      <td>141275.766519</td>\n",
       "      <td>...</td>\n",
       "      <td>0.089798</td>\n",
       "      <td>0.024387</td>\n",
       "      <td>0.022518</td>\n",
       "      <td>0.018299</td>\n",
       "      <td>0.083849</td>\n",
       "      <td>0.110757</td>\n",
       "      <td>0.204685</td>\n",
       "      <td>0.916002</td>\n",
       "      <td>0.794056</td>\n",
       "      <td>1.869295</td>\n",
       "    </tr>\n",
       "    <tr>\n",
       "      <th>min</th>\n",
       "      <td>100002.000000</td>\n",
       "      <td>0.000000</td>\n",
       "      <td>0.000000</td>\n",
       "      <td>2.565000e+04</td>\n",
       "      <td>4.500000e+04</td>\n",
       "      <td>1615.500000</td>\n",
       "      <td>4.050000e+04</td>\n",
       "      <td>0.000290</td>\n",
       "      <td>-25229.000000</td>\n",
       "      <td>-17912.000000</td>\n",
       "      <td>...</td>\n",
       "      <td>0.000000</td>\n",
       "      <td>0.000000</td>\n",
       "      <td>0.000000</td>\n",
       "      <td>0.000000</td>\n",
       "      <td>0.000000</td>\n",
       "      <td>0.000000</td>\n",
       "      <td>0.000000</td>\n",
       "      <td>0.000000</td>\n",
       "      <td>0.000000</td>\n",
       "      <td>0.000000</td>\n",
       "    </tr>\n",
       "    <tr>\n",
       "      <th>25%</th>\n",
       "      <td>189145.500000</td>\n",
       "      <td>0.000000</td>\n",
       "      <td>0.000000</td>\n",
       "      <td>1.125000e+05</td>\n",
       "      <td>2.700000e+05</td>\n",
       "      <td>16524.000000</td>\n",
       "      <td>2.385000e+05</td>\n",
       "      <td>0.010006</td>\n",
       "      <td>-19682.000000</td>\n",
       "      <td>-2760.000000</td>\n",
       "      <td>...</td>\n",
       "      <td>0.000000</td>\n",
       "      <td>0.000000</td>\n",
       "      <td>0.000000</td>\n",
       "      <td>0.000000</td>\n",
       "      <td>0.000000</td>\n",
       "      <td>0.000000</td>\n",
       "      <td>0.000000</td>\n",
       "      <td>0.000000</td>\n",
       "      <td>0.000000</td>\n",
       "      <td>0.000000</td>\n",
       "    </tr>\n",
       "    <tr>\n",
       "      <th>50%</th>\n",
       "      <td>278202.000000</td>\n",
       "      <td>0.000000</td>\n",
       "      <td>0.000000</td>\n",
       "      <td>1.471500e+05</td>\n",
       "      <td>5.135310e+05</td>\n",
       "      <td>24903.000000</td>\n",
       "      <td>4.500000e+05</td>\n",
       "      <td>0.018850</td>\n",
       "      <td>-15750.000000</td>\n",
       "      <td>-1213.000000</td>\n",
       "      <td>...</td>\n",
       "      <td>0.000000</td>\n",
       "      <td>0.000000</td>\n",
       "      <td>0.000000</td>\n",
       "      <td>0.000000</td>\n",
       "      <td>0.000000</td>\n",
       "      <td>0.000000</td>\n",
       "      <td>0.000000</td>\n",
       "      <td>0.000000</td>\n",
       "      <td>0.000000</td>\n",
       "      <td>1.000000</td>\n",
       "    </tr>\n",
       "    <tr>\n",
       "      <th>75%</th>\n",
       "      <td>367142.500000</td>\n",
       "      <td>0.000000</td>\n",
       "      <td>1.000000</td>\n",
       "      <td>2.025000e+05</td>\n",
       "      <td>8.086500e+05</td>\n",
       "      <td>34596.000000</td>\n",
       "      <td>6.795000e+05</td>\n",
       "      <td>0.028663</td>\n",
       "      <td>-12413.000000</td>\n",
       "      <td>-289.000000</td>\n",
       "      <td>...</td>\n",
       "      <td>0.000000</td>\n",
       "      <td>0.000000</td>\n",
       "      <td>0.000000</td>\n",
       "      <td>0.000000</td>\n",
       "      <td>0.000000</td>\n",
       "      <td>0.000000</td>\n",
       "      <td>0.000000</td>\n",
       "      <td>0.000000</td>\n",
       "      <td>0.000000</td>\n",
       "      <td>3.000000</td>\n",
       "    </tr>\n",
       "    <tr>\n",
       "      <th>max</th>\n",
       "      <td>456255.000000</td>\n",
       "      <td>1.000000</td>\n",
       "      <td>19.000000</td>\n",
       "      <td>1.170000e+08</td>\n",
       "      <td>4.050000e+06</td>\n",
       "      <td>258025.500000</td>\n",
       "      <td>4.050000e+06</td>\n",
       "      <td>0.072508</td>\n",
       "      <td>-7489.000000</td>\n",
       "      <td>365243.000000</td>\n",
       "      <td>...</td>\n",
       "      <td>1.000000</td>\n",
       "      <td>1.000000</td>\n",
       "      <td>1.000000</td>\n",
       "      <td>1.000000</td>\n",
       "      <td>4.000000</td>\n",
       "      <td>9.000000</td>\n",
       "      <td>8.000000</td>\n",
       "      <td>27.000000</td>\n",
       "      <td>261.000000</td>\n",
       "      <td>25.000000</td>\n",
       "    </tr>\n",
       "  </tbody>\n",
       "</table>\n",
       "<p>8 rows × 106 columns</p>\n",
       "</div>"
      ],
      "text/plain": [
       "          SK_ID_CURR         TARGET   CNT_CHILDREN  AMT_INCOME_TOTAL  \\\n",
       "count  307511.000000  307511.000000  307511.000000      3.075110e+05   \n",
       "mean   278180.518577       0.080729       0.417052      1.687979e+05   \n",
       "std    102790.175348       0.272419       0.722121      2.371231e+05   \n",
       "min    100002.000000       0.000000       0.000000      2.565000e+04   \n",
       "25%    189145.500000       0.000000       0.000000      1.125000e+05   \n",
       "50%    278202.000000       0.000000       0.000000      1.471500e+05   \n",
       "75%    367142.500000       0.000000       1.000000      2.025000e+05   \n",
       "max    456255.000000       1.000000      19.000000      1.170000e+08   \n",
       "\n",
       "         AMT_CREDIT    AMT_ANNUITY  AMT_GOODS_PRICE  \\\n",
       "count  3.075110e+05  307499.000000     3.072330e+05   \n",
       "mean   5.990260e+05   27108.573909     5.383962e+05   \n",
       "std    4.024908e+05   14493.737315     3.694465e+05   \n",
       "min    4.500000e+04    1615.500000     4.050000e+04   \n",
       "25%    2.700000e+05   16524.000000     2.385000e+05   \n",
       "50%    5.135310e+05   24903.000000     4.500000e+05   \n",
       "75%    8.086500e+05   34596.000000     6.795000e+05   \n",
       "max    4.050000e+06  258025.500000     4.050000e+06   \n",
       "\n",
       "       REGION_POPULATION_RELATIVE     DAYS_BIRTH  DAYS_EMPLOYED  ...  \\\n",
       "count               307511.000000  307511.000000  307511.000000  ...   \n",
       "mean                     0.020868  -16036.995067   63815.045904  ...   \n",
       "std                      0.013831    4363.988632  141275.766519  ...   \n",
       "min                      0.000290  -25229.000000  -17912.000000  ...   \n",
       "25%                      0.010006  -19682.000000   -2760.000000  ...   \n",
       "50%                      0.018850  -15750.000000   -1213.000000  ...   \n",
       "75%                      0.028663  -12413.000000    -289.000000  ...   \n",
       "max                      0.072508   -7489.000000  365243.000000  ...   \n",
       "\n",
       "       FLAG_DOCUMENT_18  FLAG_DOCUMENT_19  FLAG_DOCUMENT_20  FLAG_DOCUMENT_21  \\\n",
       "count     307511.000000     307511.000000     307511.000000     307511.000000   \n",
       "mean           0.008130          0.000595          0.000507          0.000335   \n",
       "std            0.089798          0.024387          0.022518          0.018299   \n",
       "min            0.000000          0.000000          0.000000          0.000000   \n",
       "25%            0.000000          0.000000          0.000000          0.000000   \n",
       "50%            0.000000          0.000000          0.000000          0.000000   \n",
       "75%            0.000000          0.000000          0.000000          0.000000   \n",
       "max            1.000000          1.000000          1.000000          1.000000   \n",
       "\n",
       "       AMT_REQ_CREDIT_BUREAU_HOUR  AMT_REQ_CREDIT_BUREAU_DAY  \\\n",
       "count               265992.000000              265992.000000   \n",
       "mean                     0.006402                   0.007000   \n",
       "std                      0.083849                   0.110757   \n",
       "min                      0.000000                   0.000000   \n",
       "25%                      0.000000                   0.000000   \n",
       "50%                      0.000000                   0.000000   \n",
       "75%                      0.000000                   0.000000   \n",
       "max                      4.000000                   9.000000   \n",
       "\n",
       "       AMT_REQ_CREDIT_BUREAU_WEEK  AMT_REQ_CREDIT_BUREAU_MON  \\\n",
       "count               265992.000000              265992.000000   \n",
       "mean                     0.034362                   0.267395   \n",
       "std                      0.204685                   0.916002   \n",
       "min                      0.000000                   0.000000   \n",
       "25%                      0.000000                   0.000000   \n",
       "50%                      0.000000                   0.000000   \n",
       "75%                      0.000000                   0.000000   \n",
       "max                      8.000000                  27.000000   \n",
       "\n",
       "       AMT_REQ_CREDIT_BUREAU_QRT  AMT_REQ_CREDIT_BUREAU_YEAR  \n",
       "count              265992.000000               265992.000000  \n",
       "mean                    0.265474                    1.899974  \n",
       "std                     0.794056                    1.869295  \n",
       "min                     0.000000                    0.000000  \n",
       "25%                     0.000000                    0.000000  \n",
       "50%                     0.000000                    1.000000  \n",
       "75%                     0.000000                    3.000000  \n",
       "max                   261.000000                   25.000000  \n",
       "\n",
       "[8 rows x 106 columns]"
      ]
     },
     "execution_count": 6,
     "metadata": {},
     "output_type": "execute_result"
    }
   ],
   "source": [
    "#Analyzing the dataframes numerical variables\n",
    "data1.describe()"
   ]
  },
  {
   "cell_type": "markdown",
   "id": "3e11f7bd",
   "metadata": {},
   "source": [
    "#### Key Takeaways"
   ]
  },
  {
   "cell_type": "markdown",
   "id": "2943fc1c",
   "metadata": {},
   "source": [
    "There are columns with negative and positive values, as well as days. fixing is required"
   ]
  },
  {
   "cell_type": "markdown",
   "id": "d90f490c",
   "metadata": {},
   "source": [
    "There are columns with extremely high values, such as those linked to AMT_GOODS_PRICE; standardization is required."
   ]
  },
  {
   "cell_type": "markdown",
   "id": "74e91d0f",
   "metadata": {},
   "source": [
    "### Step 2 - Data Cleaning"
   ]
  },
  {
   "cell_type": "code",
   "execution_count": 7,
   "id": "a66152e0",
   "metadata": {
    "scrolled": true
   },
   "outputs": [
    {
     "name": "stdout",
     "output_type": "stream",
     "text": [
      "SK_ID_CURR                        0\n",
      "TARGET                            0\n",
      "NAME_CONTRACT_TYPE                0\n",
      "CODE_GENDER                       0\n",
      "FLAG_OWN_CAR                      0\n",
      "                              ...  \n",
      "AMT_REQ_CREDIT_BUREAU_DAY     41519\n",
      "AMT_REQ_CREDIT_BUREAU_WEEK    41519\n",
      "AMT_REQ_CREDIT_BUREAU_MON     41519\n",
      "AMT_REQ_CREDIT_BUREAU_QRT     41519\n",
      "AMT_REQ_CREDIT_BUREAU_YEAR    41519\n",
      "Length: 122, dtype: int64\n"
     ]
    }
   ],
   "source": [
    "# Check for null values in each column and sum them up\n",
    "null_counts = data1.isnull().sum()\n",
    "print(null_counts)"
   ]
  },
  {
   "cell_type": "code",
   "execution_count": 8,
   "id": "ce2f7531",
   "metadata": {},
   "outputs": [
    {
     "name": "stdout",
     "output_type": "stream",
     "text": [
      "AMT_ANNUITY                       12\n",
      "AMT_GOODS_PRICE                  278\n",
      "NAME_TYPE_SUITE                 1292\n",
      "OWN_CAR_AGE                   202929\n",
      "OCCUPATION_TYPE                96391\n",
      "                               ...  \n",
      "AMT_REQ_CREDIT_BUREAU_DAY      41519\n",
      "AMT_REQ_CREDIT_BUREAU_WEEK     41519\n",
      "AMT_REQ_CREDIT_BUREAU_MON      41519\n",
      "AMT_REQ_CREDIT_BUREAU_QRT      41519\n",
      "AMT_REQ_CREDIT_BUREAU_YEAR     41519\n",
      "Length: 67, dtype: int64\n"
     ]
    }
   ],
   "source": [
    "# Filter and display columns with null values\n",
    "columns_with_null = null_counts[null_counts > 0]\n",
    "print(columns_with_null)"
   ]
  },
  {
   "cell_type": "code",
   "execution_count": 9,
   "id": "6021c6aa",
   "metadata": {},
   "outputs": [
    {
     "name": "stdout",
     "output_type": "stream",
     "text": [
      "COMMONAREA_MEDI             69.87\n",
      "COMMONAREA_AVG              69.87\n",
      "COMMONAREA_MODE             69.87\n",
      "NONLIVINGAPARTMENTS_MODE    69.43\n",
      "NONLIVINGAPARTMENTS_AVG     69.43\n",
      "                            ...  \n",
      "NAME_HOUSING_TYPE            0.00\n",
      "NAME_FAMILY_STATUS           0.00\n",
      "NAME_EDUCATION_TYPE          0.00\n",
      "NAME_INCOME_TYPE             0.00\n",
      "SK_ID_CURR                   0.00\n",
      "Length: 122, dtype: float64\n"
     ]
    }
   ],
   "source": [
    "#creating a function\n",
    "def null_values(df):\n",
    "   return round((df.isnull().sum() * 100 / len(df)).sort_values(ascending=False), 2)\n",
    "null_percentage = null_values(data1)\n",
    "print(null_percentage)"
   ]
  },
  {
   "cell_type": "markdown",
   "id": "fa1b60fa",
   "metadata": {},
   "source": [
    "#### Null values more than 50 %"
   ]
  },
  {
   "cell_type": "code",
   "execution_count": 10,
   "id": "92d1b65e",
   "metadata": {},
   "outputs": [
    {
     "name": "stdout",
     "output_type": "stream",
     "text": [
      "COMMONAREA_MEDI             69.87\n",
      "COMMONAREA_AVG              69.87\n",
      "COMMONAREA_MODE             69.87\n",
      "NONLIVINGAPARTMENTS_MODE    69.43\n",
      "NONLIVINGAPARTMENTS_AVG     69.43\n",
      "NONLIVINGAPARTMENTS_MEDI    69.43\n",
      "FONDKAPREMONT_MODE          68.39\n",
      "LIVINGAPARTMENTS_MODE       68.35\n",
      "LIVINGAPARTMENTS_AVG        68.35\n",
      "LIVINGAPARTMENTS_MEDI       68.35\n",
      "FLOORSMIN_AVG               67.85\n",
      "FLOORSMIN_MODE              67.85\n",
      "FLOORSMIN_MEDI              67.85\n",
      "YEARS_BUILD_MEDI            66.50\n",
      "YEARS_BUILD_MODE            66.50\n",
      "YEARS_BUILD_AVG             66.50\n",
      "OWN_CAR_AGE                 65.99\n",
      "LANDAREA_MEDI               59.38\n",
      "LANDAREA_MODE               59.38\n",
      "LANDAREA_AVG                59.38\n",
      "BASEMENTAREA_MEDI           58.52\n",
      "BASEMENTAREA_AVG            58.52\n",
      "BASEMENTAREA_MODE           58.52\n",
      "EXT_SOURCE_1                56.38\n",
      "NONLIVINGAREA_MODE          55.18\n",
      "NONLIVINGAREA_AVG           55.18\n",
      "NONLIVINGAREA_MEDI          55.18\n",
      "ELEVATORS_MEDI              53.30\n",
      "ELEVATORS_AVG               53.30\n",
      "ELEVATORS_MODE              53.30\n",
      "WALLSMATERIAL_MODE          50.84\n",
      "APARTMENTS_MEDI             50.75\n",
      "APARTMENTS_AVG              50.75\n",
      "APARTMENTS_MODE             50.75\n",
      "ENTRANCES_MEDI              50.35\n",
      "ENTRANCES_AVG               50.35\n",
      "ENTRANCES_MODE              50.35\n",
      "LIVINGAREA_AVG              50.19\n",
      "LIVINGAREA_MODE             50.19\n",
      "LIVINGAREA_MEDI             50.19\n",
      "HOUSETYPE_MODE              50.18\n",
      "dtype: float64\n",
      "\n",
      "Num of columns having missing values more than 50% : 41\n"
     ]
    }
   ],
   "source": [
    "#creating a variable null_50 for storing null columns with more than 50% missing values\n",
    "null_50 = null_values(data1)[null_values(data1)>50]\n",
    "print(null_50)\n",
    "print()\n",
    "print(\"Num of columns having missing values more than 50% :\",len(null_50))"
   ]
  },
  {
   "cell_type": "code",
   "execution_count": 11,
   "id": "2089a102",
   "metadata": {},
   "outputs": [
    {
     "name": "stdout",
     "output_type": "stream",
     "text": [
      "Index(['COMMONAREA_MEDI', 'COMMONAREA_AVG', 'COMMONAREA_MODE',\n",
      "       'NONLIVINGAPARTMENTS_MODE', 'NONLIVINGAPARTMENTS_AVG',\n",
      "       'NONLIVINGAPARTMENTS_MEDI', 'FONDKAPREMONT_MODE',\n",
      "       'LIVINGAPARTMENTS_MODE', 'LIVINGAPARTMENTS_AVG',\n",
      "       'LIVINGAPARTMENTS_MEDI', 'FLOORSMIN_AVG', 'FLOORSMIN_MODE',\n",
      "       'FLOORSMIN_MEDI', 'YEARS_BUILD_MEDI', 'YEARS_BUILD_MODE',\n",
      "       'YEARS_BUILD_AVG', 'OWN_CAR_AGE', 'LANDAREA_MEDI', 'LANDAREA_MODE',\n",
      "       'LANDAREA_AVG', 'BASEMENTAREA_MEDI', 'BASEMENTAREA_AVG',\n",
      "       'BASEMENTAREA_MODE', 'EXT_SOURCE_1', 'NONLIVINGAREA_MODE',\n",
      "       'NONLIVINGAREA_AVG', 'NONLIVINGAREA_MEDI', 'ELEVATORS_MEDI',\n",
      "       'ELEVATORS_AVG', 'ELEVATORS_MODE', 'WALLSMATERIAL_MODE',\n",
      "       'APARTMENTS_MEDI', 'APARTMENTS_AVG', 'APARTMENTS_MODE',\n",
      "       'ENTRANCES_MEDI', 'ENTRANCES_AVG', 'ENTRANCES_MODE', 'LIVINGAREA_AVG',\n",
      "       'LIVINGAREA_MODE', 'LIVINGAREA_MEDI', 'HOUSETYPE_MODE'],\n",
      "      dtype='object')\n"
     ]
    }
   ],
   "source": [
    "print(null_50.index)"
   ]
  },
  {
   "cell_type": "code",
   "execution_count": 12,
   "id": "52c0f561",
   "metadata": {},
   "outputs": [],
   "source": [
    "#Drop all columns that have more than 50% missing values. \n",
    "\n",
    "# Determine how many values in each column are null.\n",
    "null_percentage = data1.isnull().mean() * 100\n",
    "\n",
    "# Specify the threshold (50%) for dropping columns\n",
    "threshold = 50\n",
    "\n",
    "# Get the list of column names with more than 50% null values\n",
    "columns_to_drop = null_percentage[null_percentage > threshold].index.tolist()\n",
    "\n",
    "# Drop the columns from the DataFrame\n",
    "data1.drop(columns=columns_to_drop, inplace=True)\n"
   ]
  },
  {
   "cell_type": "code",
   "execution_count": 13,
   "id": "dd86578d",
   "metadata": {},
   "outputs": [
    {
     "data": {
      "text/plain": [
       "(307511, 81)"
      ]
     },
     "execution_count": 13,
     "metadata": {},
     "output_type": "execute_result"
    }
   ],
   "source": [
    "data1.shape"
   ]
  },
  {
   "cell_type": "markdown",
   "id": "d97220db",
   "metadata": {},
   "source": [
    "#### Key Takeaways"
   ]
  },
  {
   "cell_type": "markdown",
   "id": "a5a25e14",
   "metadata": {},
   "source": [
    "There are 41 columns with null values more than 50% that are related to varying area sizes on the loan applicant's apartment owned/rented."
   ]
  },
  {
   "cell_type": "markdown",
   "id": "25579918",
   "metadata": {},
   "source": [
    "We are left with 81 columns after removing 41 columns."
   ]
  },
  {
   "cell_type": "markdown",
   "id": "cd2b541b",
   "metadata": {},
   "source": [
    "#### Null values more than 15%"
   ]
  },
  {
   "cell_type": "code",
   "execution_count": 14,
   "id": "695ba0b8",
   "metadata": {},
   "outputs": [
    {
     "data": {
      "text/plain": [
       "FLOORSMAX_AVG                   49.76\n",
       "FLOORSMAX_MODE                  49.76\n",
       "FLOORSMAX_MEDI                  49.76\n",
       "YEARS_BEGINEXPLUATATION_AVG     48.78\n",
       "YEARS_BEGINEXPLUATATION_MODE    48.78\n",
       "YEARS_BEGINEXPLUATATION_MEDI    48.78\n",
       "TOTALAREA_MODE                  48.27\n",
       "EMERGENCYSTATE_MODE             47.40\n",
       "OCCUPATION_TYPE                 31.35\n",
       "EXT_SOURCE_3                    19.83\n",
       "dtype: float64"
      ]
     },
     "execution_count": 14,
     "metadata": {},
     "output_type": "execute_result"
    }
   ],
   "source": [
    "null_15 = null_values(data1)[null_values(data1)>15]\n",
    "null_15 "
   ]
  },
  {
   "cell_type": "code",
   "execution_count": 15,
   "id": "cafe3b56",
   "metadata": {},
   "outputs": [
    {
     "name": "stdout",
     "output_type": "stream",
     "text": [
      "(307511, 81)\n"
     ]
    }
   ],
   "source": [
    "print(data1.shape)"
   ]
  },
  {
   "cell_type": "markdown",
   "id": "07b1f043",
   "metadata": {},
   "source": [
    "#### Key Takeaways"
   ]
  },
  {
   "cell_type": "markdown",
   "id": "2750ecc2",
   "metadata": {},
   "source": [
    "Based on the column dictionary, we can conclude that only 'OCCUPATION_TYPE' and 'EXT_SOURCE_3' appear to be relevant to the TARGET column. Thus, all other columns except 'OCCUPATION_TYPE' and 'EXT_SOURCE_3' can be removed."
   ]
  },
  {
   "cell_type": "markdown",
   "id": "929320d2",
   "metadata": {},
   "source": [
    "#### Removing Unneccsary Columns"
   ]
  },
  {
   "cell_type": "code",
   "execution_count": 16,
   "id": "47c1301e",
   "metadata": {},
   "outputs": [],
   "source": [
    "# putting irrevlent columns in varibale \"irrev\"\n",
    "irrev = [\"EXT_SOURCE_3\",\"EXT_SOURCE_2\"]  "
   ]
  },
  {
   "cell_type": "code",
   "execution_count": 17,
   "id": "4fd7089e",
   "metadata": {},
   "outputs": [
    {
     "data": {
      "image/png": "[encoded data removed]",
      "text/plain": [
       "<Figure size 1000x700 with 2 Axes>"
      ]
     },
     "metadata": {},
     "output_type": "display_data"
    }
   ],
   "source": [
    "plt.figure(figsize= [10,7])\n",
    "\n",
    "sns.heatmap(data1[irrev+[\"TARGET\"]].corr(), cmap=\"Reds\",annot=True)\n",
    "\n",
    "plt.title(\"Correlation between EXT_SOURCE_3, EXT_SOURCE_2, TARGET\", fontdict={\"fontsize\":20}, pad=25)\n",
    "plt.show()"
   ]
  },
  {
   "cell_type": "markdown",
   "id": "6183ff81",
   "metadata": {},
   "source": [
    "#### Key Takeaways"
   ]
  },
  {
   "cell_type": "markdown",
   "id": "0230df5b",
   "metadata": {},
   "source": [
    "We opted to eliminate these columns since it appears that there is no linear correlation and also from the columns' descriptions."
   ]
  },
  {
   "cell_type": "markdown",
   "id": "95f9dc4e",
   "metadata": {},
   "source": [
    "We also understand that correlation does not imply causation."
   ]
  },
  {
   "cell_type": "code",
   "execution_count": 18,
   "id": "6110aff9",
   "metadata": {},
   "outputs": [],
   "source": [
    "# List of columns to be removed from null_15\n",
    "columns_to_remove = ['EXT_SOURCE_3','OCCUPATION_TYPE']\n",
    "\n",
    "# Remove the specified columns from null_15\n",
    "null_15 = [col for col in null_15 if col not in columns_to_remove]\n"
   ]
  },
  {
   "cell_type": "code",
   "execution_count": 19,
   "id": "940358c6",
   "metadata": {},
   "outputs": [
    {
     "name": "stdout",
     "output_type": "stream",
     "text": [
      "[49.76, 49.76, 49.76, 48.78, 48.78, 48.78, 48.27, 47.4, 31.35, 19.83]\n",
      "\n",
      "No of columns having missing values more than 15% and are not reletable: 10\n"
     ]
    }
   ],
   "source": [
    "print(null_15)\n",
    "print()\n",
    "print(\"No of columns having missing values more than 15% and are not reletable:\",len(null_15))"
   ]
  },
  {
   "cell_type": "code",
   "execution_count": 20,
   "id": "6675fb19",
   "metadata": {},
   "outputs": [],
   "source": [
    "#Removing columns having missing values more than 15%\n",
    "\n",
    "# Set the threshold for missing values\n",
    "threshold = 15\n",
    "data1 = data1[data1.columns[data1.isnull().mean() < (threshold / 100)]]"
   ]
  },
  {
   "cell_type": "code",
   "execution_count": 21,
   "id": "092c20fe",
   "metadata": {},
   "outputs": [
    {
     "data": {
      "text/plain": [
       "(307511, 71)"
      ]
     },
     "execution_count": 21,
     "metadata": {},
     "output_type": "execute_result"
    }
   ],
   "source": [
    "data1.shape"
   ]
  },
  {
   "cell_type": "code",
   "execution_count": 22,
   "id": "01f39b2e",
   "metadata": {},
   "outputs": [
    {
     "data": {
      "text/plain": [
       "AMT_REQ_CREDIT_BUREAU_YEAR    13.50\n",
       "AMT_REQ_CREDIT_BUREAU_QRT     13.50\n",
       "AMT_REQ_CREDIT_BUREAU_MON     13.50\n",
       "AMT_REQ_CREDIT_BUREAU_WEEK    13.50\n",
       "AMT_REQ_CREDIT_BUREAU_DAY     13.50\n",
       "AMT_REQ_CREDIT_BUREAU_HOUR    13.50\n",
       "NAME_TYPE_SUITE                0.42\n",
       "OBS_30_CNT_SOCIAL_CIRCLE       0.33\n",
       "DEF_30_CNT_SOCIAL_CIRCLE       0.33\n",
       "OBS_60_CNT_SOCIAL_CIRCLE       0.33\n",
       "dtype: float64"
      ]
     },
     "execution_count": 22,
     "metadata": {},
     "output_type": "execute_result"
    }
   ],
   "source": [
    "null_values(data1).head(10)"
   ]
  },
  {
   "cell_type": "markdown",
   "id": "6a63904e",
   "metadata": {},
   "source": [
    "#### Key Takeaways"
   ]
  },
  {
   "cell_type": "markdown",
   "id": "a435b19b",
   "metadata": {},
   "source": [
    "We are left with 71 columns after removing 8 columns."
   ]
  },
  {
   "cell_type": "markdown",
   "id": "da359139",
   "metadata": {},
   "source": [
    "#### We will look at FLAGS columns and their relationships to TARGET columns in order to eliminate any that are irrelevant."
   ]
  },
  {
   "cell_type": "code",
   "execution_count": 23,
   "id": "b8397c57",
   "metadata": {},
   "outputs": [
    {
     "data": {
      "text/plain": [
       "['FLAG_OWN_CAR',\n",
       " 'FLAG_OWN_REALTY',\n",
       " 'FLAG_MOBIL',\n",
       " 'FLAG_EMP_PHONE',\n",
       " 'FLAG_WORK_PHONE',\n",
       " 'FLAG_CONT_MOBILE',\n",
       " 'FLAG_PHONE',\n",
       " 'FLAG_EMAIL',\n",
       " 'FLAG_DOCUMENT_2',\n",
       " 'FLAG_DOCUMENT_3',\n",
       " 'FLAG_DOCUMENT_4',\n",
       " 'FLAG_DOCUMENT_5',\n",
       " 'FLAG_DOCUMENT_6',\n",
       " 'FLAG_DOCUMENT_7',\n",
       " 'FLAG_DOCUMENT_8',\n",
       " 'FLAG_DOCUMENT_9',\n",
       " 'FLAG_DOCUMENT_10',\n",
       " 'FLAG_DOCUMENT_11',\n",
       " 'FLAG_DOCUMENT_12',\n",
       " 'FLAG_DOCUMENT_13',\n",
       " 'FLAG_DOCUMENT_14',\n",
       " 'FLAG_DOCUMENT_15',\n",
       " 'FLAG_DOCUMENT_16',\n",
       " 'FLAG_DOCUMENT_17',\n",
       " 'FLAG_DOCUMENT_18',\n",
       " 'FLAG_DOCUMENT_19',\n",
       " 'FLAG_DOCUMENT_20',\n",
       " 'FLAG_DOCUMENT_21']"
      ]
     },
     "execution_count": 23,
     "metadata": {},
     "output_type": "execute_result"
    }
   ],
   "source": [
    "# adding all flags coloumns in variable \"flag_col\"\n",
    "\n",
    "flag_col = [col for col in data1.columns if \"FLAG\" in col]\n",
    "\n",
    "flag_col  # Viewing all FLAG columns"
   ]
  },
  {
   "cell_type": "code",
   "execution_count": 24,
   "id": "68b3bcdc",
   "metadata": {},
   "outputs": [],
   "source": [
    "# Making a dataframe called flag_data with the columns TARGET and all flag_col\n",
    "flag_data = data1[flag_col+[\"TARGET\"]]"
   ]
  },
  {
   "cell_type": "code",
   "execution_count": 25,
   "id": "293c93b3",
   "metadata": {},
   "outputs": [],
   "source": [
    "# Replacing \"0\" as repayer and \"1\" as defaulter for TARGET column\n",
    "\n",
    "flag_data[\"TARGET\"] = flag_data[\"TARGET\"].replace({1:\"Defaulter\", 0:\"Repayer\"})"
   ]
  },
  {
   "cell_type": "code",
   "execution_count": 26,
   "id": "79647cd7",
   "metadata": {},
   "outputs": [
    {
     "data": {
      "text/html": [
       "<div>\n",
       "<style scoped>\n",
       "    .dataframe tbody tr th:only-of-type {\n",
       "        vertical-align: middle;\n",
       "    }\n",
       "\n",
       "    .dataframe tbody tr th {\n",
       "        vertical-align: top;\n",
       "    }\n",
       "\n",
       "    .dataframe thead th {\n",
       "        text-align: right;\n",
       "    }\n",
       "</style>\n",
       "<table border=\"1\" class=\"dataframe\">\n",
       "  <thead>\n",
       "    <tr style=\"text-align: right;\">\n",
       "      <th></th>\n",
       "      <th>FLAG_OWN_CAR</th>\n",
       "      <th>FLAG_OWN_REALTY</th>\n",
       "      <th>FLAG_MOBIL</th>\n",
       "      <th>FLAG_EMP_PHONE</th>\n",
       "      <th>FLAG_WORK_PHONE</th>\n",
       "      <th>FLAG_CONT_MOBILE</th>\n",
       "      <th>FLAG_PHONE</th>\n",
       "      <th>FLAG_EMAIL</th>\n",
       "      <th>FLAG_DOCUMENT_2</th>\n",
       "      <th>FLAG_DOCUMENT_3</th>\n",
       "      <th>...</th>\n",
       "      <th>FLAG_DOCUMENT_13</th>\n",
       "      <th>FLAG_DOCUMENT_14</th>\n",
       "      <th>FLAG_DOCUMENT_15</th>\n",
       "      <th>FLAG_DOCUMENT_16</th>\n",
       "      <th>FLAG_DOCUMENT_17</th>\n",
       "      <th>FLAG_DOCUMENT_18</th>\n",
       "      <th>FLAG_DOCUMENT_19</th>\n",
       "      <th>FLAG_DOCUMENT_20</th>\n",
       "      <th>FLAG_DOCUMENT_21</th>\n",
       "      <th>TARGET</th>\n",
       "    </tr>\n",
       "  </thead>\n",
       "  <tbody>\n",
       "    <tr>\n",
       "      <th>0</th>\n",
       "      <td>N</td>\n",
       "      <td>Y</td>\n",
       "      <td>1</td>\n",
       "      <td>1</td>\n",
       "      <td>0</td>\n",
       "      <td>1</td>\n",
       "      <td>1</td>\n",
       "      <td>0</td>\n",
       "      <td>0</td>\n",
       "      <td>1</td>\n",
       "      <td>...</td>\n",
       "      <td>0</td>\n",
       "      <td>0</td>\n",
       "      <td>0</td>\n",
       "      <td>0</td>\n",
       "      <td>0</td>\n",
       "      <td>0</td>\n",
       "      <td>0</td>\n",
       "      <td>0</td>\n",
       "      <td>0</td>\n",
       "      <td>Defaulter</td>\n",
       "    </tr>\n",
       "    <tr>\n",
       "      <th>1</th>\n",
       "      <td>N</td>\n",
       "      <td>N</td>\n",
       "      <td>1</td>\n",
       "      <td>1</td>\n",
       "      <td>0</td>\n",
       "      <td>1</td>\n",
       "      <td>1</td>\n",
       "      <td>0</td>\n",
       "      <td>0</td>\n",
       "      <td>1</td>\n",
       "      <td>...</td>\n",
       "      <td>0</td>\n",
       "      <td>0</td>\n",
       "      <td>0</td>\n",
       "      <td>0</td>\n",
       "      <td>0</td>\n",
       "      <td>0</td>\n",
       "      <td>0</td>\n",
       "      <td>0</td>\n",
       "      <td>0</td>\n",
       "      <td>Repayer</td>\n",
       "    </tr>\n",
       "    <tr>\n",
       "      <th>2</th>\n",
       "      <td>Y</td>\n",
       "      <td>Y</td>\n",
       "      <td>1</td>\n",
       "      <td>1</td>\n",
       "      <td>1</td>\n",
       "      <td>1</td>\n",
       "      <td>1</td>\n",
       "      <td>0</td>\n",
       "      <td>0</td>\n",
       "      <td>0</td>\n",
       "      <td>...</td>\n",
       "      <td>0</td>\n",
       "      <td>0</td>\n",
       "      <td>0</td>\n",
       "      <td>0</td>\n",
       "      <td>0</td>\n",
       "      <td>0</td>\n",
       "      <td>0</td>\n",
       "      <td>0</td>\n",
       "      <td>0</td>\n",
       "      <td>Repayer</td>\n",
       "    </tr>\n",
       "    <tr>\n",
       "      <th>3</th>\n",
       "      <td>N</td>\n",
       "      <td>Y</td>\n",
       "      <td>1</td>\n",
       "      <td>1</td>\n",
       "      <td>0</td>\n",
       "      <td>1</td>\n",
       "      <td>0</td>\n",
       "      <td>0</td>\n",
       "      <td>0</td>\n",
       "      <td>1</td>\n",
       "      <td>...</td>\n",
       "      <td>0</td>\n",
       "      <td>0</td>\n",
       "      <td>0</td>\n",
       "      <td>0</td>\n",
       "      <td>0</td>\n",
       "      <td>0</td>\n",
       "      <td>0</td>\n",
       "      <td>0</td>\n",
       "      <td>0</td>\n",
       "      <td>Repayer</td>\n",
       "    </tr>\n",
       "    <tr>\n",
       "      <th>4</th>\n",
       "      <td>N</td>\n",
       "      <td>Y</td>\n",
       "      <td>1</td>\n",
       "      <td>1</td>\n",
       "      <td>0</td>\n",
       "      <td>1</td>\n",
       "      <td>0</td>\n",
       "      <td>0</td>\n",
       "      <td>0</td>\n",
       "      <td>0</td>\n",
       "      <td>...</td>\n",
       "      <td>0</td>\n",
       "      <td>0</td>\n",
       "      <td>0</td>\n",
       "      <td>0</td>\n",
       "      <td>0</td>\n",
       "      <td>0</td>\n",
       "      <td>0</td>\n",
       "      <td>0</td>\n",
       "      <td>0</td>\n",
       "      <td>Repayer</td>\n",
       "    </tr>\n",
       "  </tbody>\n",
       "</table>\n",
       "<p>5 rows × 29 columns</p>\n",
       "</div>"
      ],
      "text/plain": [
       "  FLAG_OWN_CAR FLAG_OWN_REALTY  FLAG_MOBIL  FLAG_EMP_PHONE  FLAG_WORK_PHONE  \\\n",
       "0            N               Y           1               1                0   \n",
       "1            N               N           1               1                0   \n",
       "2            Y               Y           1               1                1   \n",
       "3            N               Y           1               1                0   \n",
       "4            N               Y           1               1                0   \n",
       "\n",
       "   FLAG_CONT_MOBILE  FLAG_PHONE  FLAG_EMAIL  FLAG_DOCUMENT_2  FLAG_DOCUMENT_3  \\\n",
       "0                 1           1           0                0                1   \n",
       "1                 1           1           0                0                1   \n",
       "2                 1           1           0                0                0   \n",
       "3                 1           0           0                0                1   \n",
       "4                 1           0           0                0                0   \n",
       "\n",
       "   ...  FLAG_DOCUMENT_13  FLAG_DOCUMENT_14  FLAG_DOCUMENT_15  \\\n",
       "0  ...                 0                 0                 0   \n",
       "1  ...                 0                 0                 0   \n",
       "2  ...                 0                 0                 0   \n",
       "3  ...                 0                 0                 0   \n",
       "4  ...                 0                 0                 0   \n",
       "\n",
       "   FLAG_DOCUMENT_16  FLAG_DOCUMENT_17  FLAG_DOCUMENT_18  FLAG_DOCUMENT_19  \\\n",
       "0                 0                 0                 0                 0   \n",
       "1                 0                 0                 0                 0   \n",
       "2                 0                 0                 0                 0   \n",
       "3                 0                 0                 0                 0   \n",
       "4                 0                 0                 0                 0   \n",
       "\n",
       "   FLAG_DOCUMENT_20  FLAG_DOCUMENT_21     TARGET  \n",
       "0                 0                 0  Defaulter  \n",
       "1                 0                 0    Repayer  \n",
       "2                 0                 0    Repayer  \n",
       "3                 0                 0    Repayer  \n",
       "4                 0                 0    Repayer  \n",
       "\n",
       "[5 rows x 29 columns]"
      ]
     },
     "execution_count": 26,
     "metadata": {},
     "output_type": "execute_result"
    }
   ],
   "source": [
    "flag_data.head()"
   ]
  },
  {
   "cell_type": "code",
   "execution_count": 27,
   "id": "e0b85cf8",
   "metadata": {},
   "outputs": [
    {
     "data": {
      "image/png": "[encoded data removed]",
      "text/plain": [
       "<Figure size 2000x2400 with 28 Axes>"
      ]
     },
     "metadata": {},
     "output_type": "display_data"
    }
   ],
   "source": [
    "# using itertools for plotting subplots\n",
    "import itertools\n",
    "import matplotlib.pyplot as plt\n",
    "import seaborn as sns\n",
    "\n",
    "# Plotting the entire graph to identify relationships and evaluating whether to exclude certain columns.\n",
    "\n",
    "flag_col = ['FLAG_OWN_CAR',\n",
    " 'FLAG_OWN_REALTY',\n",
    " 'FLAG_MOBIL',\n",
    " 'FLAG_EMP_PHONE',\n",
    " 'FLAG_WORK_PHONE',\n",
    " 'FLAG_CONT_MOBILE',\n",
    " 'FLAG_PHONE',\n",
    " 'FLAG_EMAIL',\n",
    " 'FLAG_DOCUMENT_2',\n",
    " 'FLAG_DOCUMENT_3',\n",
    " 'FLAG_DOCUMENT_4',\n",
    " 'FLAG_DOCUMENT_5',\n",
    " 'FLAG_DOCUMENT_6',\n",
    " 'FLAG_DOCUMENT_7',\n",
    " 'FLAG_DOCUMENT_8',\n",
    " 'FLAG_DOCUMENT_9',\n",
    " 'FLAG_DOCUMENT_10',\n",
    " 'FLAG_DOCUMENT_11',\n",
    " 'FLAG_DOCUMENT_12',\n",
    " 'FLAG_DOCUMENT_13',\n",
    " 'FLAG_DOCUMENT_14',\n",
    " 'FLAG_DOCUMENT_15',\n",
    " 'FLAG_DOCUMENT_16',\n",
    " 'FLAG_DOCUMENT_17',\n",
    " 'FLAG_DOCUMENT_18',\n",
    " 'FLAG_DOCUMENT_19',\n",
    " 'FLAG_DOCUMENT_20',\n",
    " 'FLAG_DOCUMENT_21']\n",
    "\n",
    "# Create subplots in a 7x4 grid (adjust as needed)\n",
    "plt.figure(figsize=[20, 24])\n",
    "\n",
    "# Iterate through flag_col and enumerate them\n",
    "for i, column in enumerate(flag_col):\n",
    "    # Create subplots\n",
    "    plt.subplot(7, 4, i + 1)\n",
    "    \n",
    "    # Create a countplot for the current column with respect to the \"TARGET\" variable\n",
    "    ax = sns.countplot(data=flag_data, x=column, hue=\"TARGET\", palette=[\"r\", \"b\"])\n",
    "    \n",
    "    # Customize the plot appearance\n",
    "    plt.xlabel(\"\")\n",
    "    plt.ylabel(\"\")\n",
    "    plt.title(column)\n",
    "\n",
    "# Show the subplots\n",
    "plt.show()\n"
   ]
  },
  {
   "cell_type": "markdown",
   "id": "35162792",
   "metadata": {},
   "source": [
    "#### Key Takeaways"
   ]
  },
  {
   "cell_type": "markdown",
   "id": "cbb73459",
   "metadata": {},
   "source": [
    "It Seems that Columns (FLAG_OWN_REALTY, FLAG_MOBIL, FLAG_EMP_PHONE, FLAG_CONT_MOBILE, FLAG_DOCUMENT_3) have more repayers than defaulters, therefore we may keep FLAG_DOCUMENT_3, FLAG_OWN_REALTY, and FLAG_MOBIL while removing all other FLAG columns for further Analysis."
   ]
  },
  {
   "cell_type": "code",
   "execution_count": 28,
   "id": "6639137e",
   "metadata": {},
   "outputs": [],
   "source": [
    "# Removing required columns from \"flag_data\" \n",
    "flag_data.drop([\"TARGET\",\"FLAG_OWN_REALTY\",\"FLAG_MOBIL\",\"FLAG_DOCUMENT_3\"], axis=1 , inplace = True)"
   ]
  },
  {
   "cell_type": "code",
   "execution_count": 29,
   "id": "7e354bee",
   "metadata": {},
   "outputs": [
    {
     "data": {
      "text/plain": [
       "25"
      ]
     },
     "execution_count": 29,
     "metadata": {},
     "output_type": "execute_result"
    }
   ],
   "source": [
    "len(flag_data.columns)"
   ]
  },
  {
   "cell_type": "code",
   "execution_count": 30,
   "id": "0ec3ea2f",
   "metadata": {},
   "outputs": [],
   "source": [
    "# Dropping the columns of \"flag_data\" dataframe.\n",
    "data1.drop(flag_data.columns, axis=1, inplace= True)"
   ]
  },
  {
   "cell_type": "code",
   "execution_count": 31,
   "id": "e54b55b0",
   "metadata": {},
   "outputs": [
    {
     "data": {
      "text/plain": [
       "(307511, 46)"
      ]
     },
     "execution_count": 31,
     "metadata": {},
     "output_type": "execute_result"
    }
   ],
   "source": [
    "data1.shape "
   ]
  },
  {
   "cell_type": "markdown",
   "id": "91deb970",
   "metadata": {},
   "source": [
    "#### Key Takeaways"
   ]
  },
  {
   "cell_type": "markdown",
   "id": "8c072e2c",
   "metadata": {},
   "source": [
    "Following the removal of unnecessary, irrelevant, and missing columns. We are now down to 46 columns."
   ]
  },
  {
   "cell_type": "markdown",
   "id": "ca7630d4",
   "metadata": {},
   "source": [
    "### Step 3 - Imputing values"
   ]
  },
  {
   "cell_type": "markdown",
   "id": "a63cd86e",
   "metadata": {},
   "source": [
    "Imputing values for relevent missing columns where ever required."
   ]
  },
  {
   "cell_type": "code",
   "execution_count": 32,
   "id": "94ee65b0",
   "metadata": {},
   "outputs": [
    {
     "data": {
      "text/plain": [
       "AMT_REQ_CREDIT_BUREAU_YEAR    13.50\n",
       "AMT_REQ_CREDIT_BUREAU_QRT     13.50\n",
       "AMT_REQ_CREDIT_BUREAU_MON     13.50\n",
       "AMT_REQ_CREDIT_BUREAU_WEEK    13.50\n",
       "AMT_REQ_CREDIT_BUREAU_DAY     13.50\n",
       "AMT_REQ_CREDIT_BUREAU_HOUR    13.50\n",
       "NAME_TYPE_SUITE                0.42\n",
       "OBS_30_CNT_SOCIAL_CIRCLE       0.33\n",
       "DEF_30_CNT_SOCIAL_CIRCLE       0.33\n",
       "OBS_60_CNT_SOCIAL_CIRCLE       0.33\n",
       "dtype: float64"
      ]
     },
     "execution_count": 32,
     "metadata": {},
     "output_type": "execute_result"
    }
   ],
   "source": [
    "null_values(data1).head(10)"
   ]
  },
  {
   "cell_type": "code",
   "execution_count": 33,
   "id": "072d0175",
   "metadata": {},
   "outputs": [
    {
     "data": {
      "text/html": [
       "<div>\n",
       "<style scoped>\n",
       "    .dataframe tbody tr th:only-of-type {\n",
       "        vertical-align: middle;\n",
       "    }\n",
       "\n",
       "    .dataframe tbody tr th {\n",
       "        vertical-align: top;\n",
       "    }\n",
       "\n",
       "    .dataframe thead th {\n",
       "        text-align: right;\n",
       "    }\n",
       "</style>\n",
       "<table border=\"1\" class=\"dataframe\">\n",
       "  <thead>\n",
       "    <tr style=\"text-align: right;\">\n",
       "      <th></th>\n",
       "      <th>AMT_REQ_CREDIT_BUREAU_YEAR</th>\n",
       "      <th>AMT_REQ_CREDIT_BUREAU_QRT</th>\n",
       "      <th>AMT_REQ_CREDIT_BUREAU_MON</th>\n",
       "      <th>AMT_REQ_CREDIT_BUREAU_WEEK</th>\n",
       "      <th>AMT_REQ_CREDIT_BUREAU_DAY</th>\n",
       "      <th>AMT_REQ_CREDIT_BUREAU_HOUR</th>\n",
       "    </tr>\n",
       "  </thead>\n",
       "  <tbody>\n",
       "    <tr>\n",
       "      <th>count</th>\n",
       "      <td>265992.000000</td>\n",
       "      <td>265992.000000</td>\n",
       "      <td>265992.000000</td>\n",
       "      <td>265992.000000</td>\n",
       "      <td>265992.000000</td>\n",
       "      <td>265992.000000</td>\n",
       "    </tr>\n",
       "    <tr>\n",
       "      <th>mean</th>\n",
       "      <td>1.899974</td>\n",
       "      <td>0.265474</td>\n",
       "      <td>0.267395</td>\n",
       "      <td>0.034362</td>\n",
       "      <td>0.007000</td>\n",
       "      <td>0.006402</td>\n",
       "    </tr>\n",
       "    <tr>\n",
       "      <th>std</th>\n",
       "      <td>1.869295</td>\n",
       "      <td>0.794056</td>\n",
       "      <td>0.916002</td>\n",
       "      <td>0.204685</td>\n",
       "      <td>0.110757</td>\n",
       "      <td>0.083849</td>\n",
       "    </tr>\n",
       "    <tr>\n",
       "      <th>min</th>\n",
       "      <td>0.000000</td>\n",
       "      <td>0.000000</td>\n",
       "      <td>0.000000</td>\n",
       "      <td>0.000000</td>\n",
       "      <td>0.000000</td>\n",
       "      <td>0.000000</td>\n",
       "    </tr>\n",
       "    <tr>\n",
       "      <th>25%</th>\n",
       "      <td>0.000000</td>\n",
       "      <td>0.000000</td>\n",
       "      <td>0.000000</td>\n",
       "      <td>0.000000</td>\n",
       "      <td>0.000000</td>\n",
       "      <td>0.000000</td>\n",
       "    </tr>\n",
       "    <tr>\n",
       "      <th>50%</th>\n",
       "      <td>1.000000</td>\n",
       "      <td>0.000000</td>\n",
       "      <td>0.000000</td>\n",
       "      <td>0.000000</td>\n",
       "      <td>0.000000</td>\n",
       "      <td>0.000000</td>\n",
       "    </tr>\n",
       "    <tr>\n",
       "      <th>75%</th>\n",
       "      <td>3.000000</td>\n",
       "      <td>0.000000</td>\n",
       "      <td>0.000000</td>\n",
       "      <td>0.000000</td>\n",
       "      <td>0.000000</td>\n",
       "      <td>0.000000</td>\n",
       "    </tr>\n",
       "    <tr>\n",
       "      <th>max</th>\n",
       "      <td>25.000000</td>\n",
       "      <td>261.000000</td>\n",
       "      <td>27.000000</td>\n",
       "      <td>8.000000</td>\n",
       "      <td>9.000000</td>\n",
       "      <td>4.000000</td>\n",
       "    </tr>\n",
       "  </tbody>\n",
       "</table>\n",
       "</div>"
      ],
      "text/plain": [
       "       AMT_REQ_CREDIT_BUREAU_YEAR  AMT_REQ_CREDIT_BUREAU_QRT  \\\n",
       "count               265992.000000              265992.000000   \n",
       "mean                     1.899974                   0.265474   \n",
       "std                      1.869295                   0.794056   \n",
       "min                      0.000000                   0.000000   \n",
       "25%                      0.000000                   0.000000   \n",
       "50%                      1.000000                   0.000000   \n",
       "75%                      3.000000                   0.000000   \n",
       "max                     25.000000                 261.000000   \n",
       "\n",
       "       AMT_REQ_CREDIT_BUREAU_MON  AMT_REQ_CREDIT_BUREAU_WEEK  \\\n",
       "count              265992.000000               265992.000000   \n",
       "mean                    0.267395                    0.034362   \n",
       "std                     0.916002                    0.204685   \n",
       "min                     0.000000                    0.000000   \n",
       "25%                     0.000000                    0.000000   \n",
       "50%                     0.000000                    0.000000   \n",
       "75%                     0.000000                    0.000000   \n",
       "max                    27.000000                    8.000000   \n",
       "\n",
       "       AMT_REQ_CREDIT_BUREAU_DAY  AMT_REQ_CREDIT_BUREAU_HOUR  \n",
       "count              265992.000000               265992.000000  \n",
       "mean                    0.007000                    0.006402  \n",
       "std                     0.110757                    0.083849  \n",
       "min                     0.000000                    0.000000  \n",
       "25%                     0.000000                    0.000000  \n",
       "50%                     0.000000                    0.000000  \n",
       "75%                     0.000000                    0.000000  \n",
       "max                     9.000000                    4.000000  "
      ]
     },
     "execution_count": 33,
     "metadata": {},
     "output_type": "execute_result"
    }
   ],
   "source": [
    "data1[[\"AMT_REQ_CREDIT_BUREAU_YEAR\",\"AMT_REQ_CREDIT_BUREAU_QRT\",\"AMT_REQ_CREDIT_BUREAU_MON\",\"AMT_REQ_CREDIT_BUREAU_WEEK\",\n",
    "\"AMT_REQ_CREDIT_BUREAU_DAY\",\"AMT_REQ_CREDIT_BUREAU_HOUR\"]].describe()"
   ]
  },
  {
   "cell_type": "markdown",
   "id": "bae7289f",
   "metadata": {},
   "source": [
    "#### Key Takeaways"
   ]
  },
  {
   "cell_type": "markdown",
   "id": "e57a3adc",
   "metadata": {},
   "source": [
    "These columns above show the number of inquiries received from the consumer (which should be discrete and not continuous).\n",
    "We may conclude from the above-described results that all values are numerical and that we should not use mean because it is in decimal form for imputing missing values, so we will use median for all of these columns."
   ]
  },
  {
   "cell_type": "code",
   "execution_count": 34,
   "id": "25c7c413",
   "metadata": {},
   "outputs": [],
   "source": [
    "#creating \"amt_credit\" variable\n",
    "amt_credit = [\"AMT_REQ_CREDIT_BUREAU_YEAR\",\"AMT_REQ_CREDIT_BUREAU_QRT\",\"AMT_REQ_CREDIT_BUREAU_MON\",\"AMT_REQ_CREDIT_BUREAU_WEEK\",\n",
    "\"AMT_REQ_CREDIT_BUREAU_DAY\",\"AMT_REQ_CREDIT_BUREAU_HOUR\"]"
   ]
  },
  {
   "cell_type": "code",
   "execution_count": 35,
   "id": "4ce27465",
   "metadata": {},
   "outputs": [],
   "source": [
    "#filling missing values with median values\n",
    "data1.fillna(data1[amt_credit].median(),inplace = True)"
   ]
  },
  {
   "cell_type": "code",
   "execution_count": 36,
   "id": "e0324c9c",
   "metadata": {},
   "outputs": [
    {
     "data": {
      "text/plain": [
       "NAME_TYPE_SUITE             0.42\n",
       "DEF_60_CNT_SOCIAL_CIRCLE    0.33\n",
       "OBS_60_CNT_SOCIAL_CIRCLE    0.33\n",
       "DEF_30_CNT_SOCIAL_CIRCLE    0.33\n",
       "OBS_30_CNT_SOCIAL_CIRCLE    0.33\n",
       "EXT_SOURCE_2                0.21\n",
       "AMT_GOODS_PRICE             0.09\n",
       "AMT_ANNUITY                 0.00\n",
       "CNT_FAM_MEMBERS             0.00\n",
       "DAYS_LAST_PHONE_CHANGE      0.00\n",
       "dtype: float64"
      ]
     },
     "execution_count": 36,
     "metadata": {},
     "output_type": "execute_result"
    }
   ],
   "source": [
    "null_values(data1).head(10)"
   ]
  },
  {
   "cell_type": "markdown",
   "id": "9e52e516",
   "metadata": {},
   "source": [
    "There are still some missing value columns, but we won't attempt to impute them because the number of missing values is so small."
   ]
  },
  {
   "cell_type": "markdown",
   "id": "1c0b228b",
   "metadata": {},
   "source": [
    "### Step 4 - Standardising values"
   ]
  },
  {
   "cell_type": "code",
   "execution_count": 37,
   "id": "f991e66f",
   "metadata": {},
   "outputs": [
    {
     "data": {
      "text/html": [
       "<div>\n",
       "<style scoped>\n",
       "    .dataframe tbody tr th:only-of-type {\n",
       "        vertical-align: middle;\n",
       "    }\n",
       "\n",
       "    .dataframe tbody tr th {\n",
       "        vertical-align: top;\n",
       "    }\n",
       "\n",
       "    .dataframe thead th {\n",
       "        text-align: right;\n",
       "    }\n",
       "</style>\n",
       "<table border=\"1\" class=\"dataframe\">\n",
       "  <thead>\n",
       "    <tr style=\"text-align: right;\">\n",
       "      <th></th>\n",
       "      <th>SK_ID_CURR</th>\n",
       "      <th>TARGET</th>\n",
       "      <th>CNT_CHILDREN</th>\n",
       "      <th>AMT_INCOME_TOTAL</th>\n",
       "      <th>AMT_CREDIT</th>\n",
       "      <th>AMT_ANNUITY</th>\n",
       "      <th>AMT_GOODS_PRICE</th>\n",
       "      <th>REGION_POPULATION_RELATIVE</th>\n",
       "      <th>DAYS_BIRTH</th>\n",
       "      <th>DAYS_EMPLOYED</th>\n",
       "      <th>...</th>\n",
       "      <th>OBS_60_CNT_SOCIAL_CIRCLE</th>\n",
       "      <th>DEF_60_CNT_SOCIAL_CIRCLE</th>\n",
       "      <th>DAYS_LAST_PHONE_CHANGE</th>\n",
       "      <th>FLAG_DOCUMENT_3</th>\n",
       "      <th>AMT_REQ_CREDIT_BUREAU_HOUR</th>\n",
       "      <th>AMT_REQ_CREDIT_BUREAU_DAY</th>\n",
       "      <th>AMT_REQ_CREDIT_BUREAU_WEEK</th>\n",
       "      <th>AMT_REQ_CREDIT_BUREAU_MON</th>\n",
       "      <th>AMT_REQ_CREDIT_BUREAU_QRT</th>\n",
       "      <th>AMT_REQ_CREDIT_BUREAU_YEAR</th>\n",
       "    </tr>\n",
       "  </thead>\n",
       "  <tbody>\n",
       "    <tr>\n",
       "      <th>count</th>\n",
       "      <td>307511.000000</td>\n",
       "      <td>307511.000000</td>\n",
       "      <td>307511.000000</td>\n",
       "      <td>3.075110e+05</td>\n",
       "      <td>3.075110e+05</td>\n",
       "      <td>307499.000000</td>\n",
       "      <td>3.072330e+05</td>\n",
       "      <td>307511.000000</td>\n",
       "      <td>307511.000000</td>\n",
       "      <td>307511.000000</td>\n",
       "      <td>...</td>\n",
       "      <td>306490.000000</td>\n",
       "      <td>306490.000000</td>\n",
       "      <td>307510.000000</td>\n",
       "      <td>307511.000000</td>\n",
       "      <td>307511.000000</td>\n",
       "      <td>307511.000000</td>\n",
       "      <td>307511.000000</td>\n",
       "      <td>307511.000000</td>\n",
       "      <td>307511.000000</td>\n",
       "      <td>307511.000000</td>\n",
       "    </tr>\n",
       "    <tr>\n",
       "      <th>mean</th>\n",
       "      <td>278180.518577</td>\n",
       "      <td>0.080729</td>\n",
       "      <td>0.417052</td>\n",
       "      <td>1.687979e+05</td>\n",
       "      <td>5.990260e+05</td>\n",
       "      <td>27108.573909</td>\n",
       "      <td>5.383962e+05</td>\n",
       "      <td>0.020868</td>\n",
       "      <td>-16036.995067</td>\n",
       "      <td>63815.045904</td>\n",
       "      <td>...</td>\n",
       "      <td>1.405292</td>\n",
       "      <td>0.100049</td>\n",
       "      <td>-962.858788</td>\n",
       "      <td>0.710023</td>\n",
       "      <td>0.005538</td>\n",
       "      <td>0.006055</td>\n",
       "      <td>0.029723</td>\n",
       "      <td>0.231293</td>\n",
       "      <td>0.229631</td>\n",
       "      <td>1.778463</td>\n",
       "    </tr>\n",
       "    <tr>\n",
       "      <th>std</th>\n",
       "      <td>102790.175348</td>\n",
       "      <td>0.272419</td>\n",
       "      <td>0.722121</td>\n",
       "      <td>2.371231e+05</td>\n",
       "      <td>4.024908e+05</td>\n",
       "      <td>14493.737315</td>\n",
       "      <td>3.694465e+05</td>\n",
       "      <td>0.013831</td>\n",
       "      <td>4363.988632</td>\n",
       "      <td>141275.766519</td>\n",
       "      <td>...</td>\n",
       "      <td>2.379803</td>\n",
       "      <td>0.362291</td>\n",
       "      <td>826.808487</td>\n",
       "      <td>0.453752</td>\n",
       "      <td>0.078014</td>\n",
       "      <td>0.103037</td>\n",
       "      <td>0.190728</td>\n",
       "      <td>0.856810</td>\n",
       "      <td>0.744059</td>\n",
       "      <td>1.765523</td>\n",
       "    </tr>\n",
       "    <tr>\n",
       "      <th>min</th>\n",
       "      <td>100002.000000</td>\n",
       "      <td>0.000000</td>\n",
       "      <td>0.000000</td>\n",
       "      <td>2.565000e+04</td>\n",
       "      <td>4.500000e+04</td>\n",
       "      <td>1615.500000</td>\n",
       "      <td>4.050000e+04</td>\n",
       "      <td>0.000290</td>\n",
       "      <td>-25229.000000</td>\n",
       "      <td>-17912.000000</td>\n",
       "      <td>...</td>\n",
       "      <td>0.000000</td>\n",
       "      <td>0.000000</td>\n",
       "      <td>-4292.000000</td>\n",
       "      <td>0.000000</td>\n",
       "      <td>0.000000</td>\n",
       "      <td>0.000000</td>\n",
       "      <td>0.000000</td>\n",
       "      <td>0.000000</td>\n",
       "      <td>0.000000</td>\n",
       "      <td>0.000000</td>\n",
       "    </tr>\n",
       "    <tr>\n",
       "      <th>25%</th>\n",
       "      <td>189145.500000</td>\n",
       "      <td>0.000000</td>\n",
       "      <td>0.000000</td>\n",
       "      <td>1.125000e+05</td>\n",
       "      <td>2.700000e+05</td>\n",
       "      <td>16524.000000</td>\n",
       "      <td>2.385000e+05</td>\n",
       "      <td>0.010006</td>\n",
       "      <td>-19682.000000</td>\n",
       "      <td>-2760.000000</td>\n",
       "      <td>...</td>\n",
       "      <td>0.000000</td>\n",
       "      <td>0.000000</td>\n",
       "      <td>-1570.000000</td>\n",
       "      <td>0.000000</td>\n",
       "      <td>0.000000</td>\n",
       "      <td>0.000000</td>\n",
       "      <td>0.000000</td>\n",
       "      <td>0.000000</td>\n",
       "      <td>0.000000</td>\n",
       "      <td>1.000000</td>\n",
       "    </tr>\n",
       "    <tr>\n",
       "      <th>50%</th>\n",
       "      <td>278202.000000</td>\n",
       "      <td>0.000000</td>\n",
       "      <td>0.000000</td>\n",
       "      <td>1.471500e+05</td>\n",
       "      <td>5.135310e+05</td>\n",
       "      <td>24903.000000</td>\n",
       "      <td>4.500000e+05</td>\n",
       "      <td>0.018850</td>\n",
       "      <td>-15750.000000</td>\n",
       "      <td>-1213.000000</td>\n",
       "      <td>...</td>\n",
       "      <td>0.000000</td>\n",
       "      <td>0.000000</td>\n",
       "      <td>-757.000000</td>\n",
       "      <td>1.000000</td>\n",
       "      <td>0.000000</td>\n",
       "      <td>0.000000</td>\n",
       "      <td>0.000000</td>\n",
       "      <td>0.000000</td>\n",
       "      <td>0.000000</td>\n",
       "      <td>1.000000</td>\n",
       "    </tr>\n",
       "    <tr>\n",
       "      <th>75%</th>\n",
       "      <td>367142.500000</td>\n",
       "      <td>0.000000</td>\n",
       "      <td>1.000000</td>\n",
       "      <td>2.025000e+05</td>\n",
       "      <td>8.086500e+05</td>\n",
       "      <td>34596.000000</td>\n",
       "      <td>6.795000e+05</td>\n",
       "      <td>0.028663</td>\n",
       "      <td>-12413.000000</td>\n",
       "      <td>-289.000000</td>\n",
       "      <td>...</td>\n",
       "      <td>2.000000</td>\n",
       "      <td>0.000000</td>\n",
       "      <td>-274.000000</td>\n",
       "      <td>1.000000</td>\n",
       "      <td>0.000000</td>\n",
       "      <td>0.000000</td>\n",
       "      <td>0.000000</td>\n",
       "      <td>0.000000</td>\n",
       "      <td>0.000000</td>\n",
       "      <td>3.000000</td>\n",
       "    </tr>\n",
       "    <tr>\n",
       "      <th>max</th>\n",
       "      <td>456255.000000</td>\n",
       "      <td>1.000000</td>\n",
       "      <td>19.000000</td>\n",
       "      <td>1.170000e+08</td>\n",
       "      <td>4.050000e+06</td>\n",
       "      <td>258025.500000</td>\n",
       "      <td>4.050000e+06</td>\n",
       "      <td>0.072508</td>\n",
       "      <td>-7489.000000</td>\n",
       "      <td>365243.000000</td>\n",
       "      <td>...</td>\n",
       "      <td>344.000000</td>\n",
       "      <td>24.000000</td>\n",
       "      <td>0.000000</td>\n",
       "      <td>1.000000</td>\n",
       "      <td>4.000000</td>\n",
       "      <td>9.000000</td>\n",
       "      <td>8.000000</td>\n",
       "      <td>27.000000</td>\n",
       "      <td>261.000000</td>\n",
       "      <td>25.000000</td>\n",
       "    </tr>\n",
       "  </tbody>\n",
       "</table>\n",
       "<p>8 rows × 36 columns</p>\n",
       "</div>"
      ],
      "text/plain": [
       "          SK_ID_CURR         TARGET   CNT_CHILDREN  AMT_INCOME_TOTAL  \\\n",
       "count  307511.000000  307511.000000  307511.000000      3.075110e+05   \n",
       "mean   278180.518577       0.080729       0.417052      1.687979e+05   \n",
       "std    102790.175348       0.272419       0.722121      2.371231e+05   \n",
       "min    100002.000000       0.000000       0.000000      2.565000e+04   \n",
       "25%    189145.500000       0.000000       0.000000      1.125000e+05   \n",
       "50%    278202.000000       0.000000       0.000000      1.471500e+05   \n",
       "75%    367142.500000       0.000000       1.000000      2.025000e+05   \n",
       "max    456255.000000       1.000000      19.000000      1.170000e+08   \n",
       "\n",
       "         AMT_CREDIT    AMT_ANNUITY  AMT_GOODS_PRICE  \\\n",
       "count  3.075110e+05  307499.000000     3.072330e+05   \n",
       "mean   5.990260e+05   27108.573909     5.383962e+05   \n",
       "std    4.024908e+05   14493.737315     3.694465e+05   \n",
       "min    4.500000e+04    1615.500000     4.050000e+04   \n",
       "25%    2.700000e+05   16524.000000     2.385000e+05   \n",
       "50%    5.135310e+05   24903.000000     4.500000e+05   \n",
       "75%    8.086500e+05   34596.000000     6.795000e+05   \n",
       "max    4.050000e+06  258025.500000     4.050000e+06   \n",
       "\n",
       "       REGION_POPULATION_RELATIVE     DAYS_BIRTH  DAYS_EMPLOYED  ...  \\\n",
       "count               307511.000000  307511.000000  307511.000000  ...   \n",
       "mean                     0.020868  -16036.995067   63815.045904  ...   \n",
       "std                      0.013831    4363.988632  141275.766519  ...   \n",
       "min                      0.000290  -25229.000000  -17912.000000  ...   \n",
       "25%                      0.010006  -19682.000000   -2760.000000  ...   \n",
       "50%                      0.018850  -15750.000000   -1213.000000  ...   \n",
       "75%                      0.028663  -12413.000000    -289.000000  ...   \n",
       "max                      0.072508   -7489.000000  365243.000000  ...   \n",
       "\n",
       "       OBS_60_CNT_SOCIAL_CIRCLE  DEF_60_CNT_SOCIAL_CIRCLE  \\\n",
       "count             306490.000000             306490.000000   \n",
       "mean                   1.405292                  0.100049   \n",
       "std                    2.379803                  0.362291   \n",
       "min                    0.000000                  0.000000   \n",
       "25%                    0.000000                  0.000000   \n",
       "50%                    0.000000                  0.000000   \n",
       "75%                    2.000000                  0.000000   \n",
       "max                  344.000000                 24.000000   \n",
       "\n",
       "       DAYS_LAST_PHONE_CHANGE  FLAG_DOCUMENT_3  AMT_REQ_CREDIT_BUREAU_HOUR  \\\n",
       "count           307510.000000    307511.000000               307511.000000   \n",
       "mean              -962.858788         0.710023                    0.005538   \n",
       "std                826.808487         0.453752                    0.078014   \n",
       "min              -4292.000000         0.000000                    0.000000   \n",
       "25%              -1570.000000         0.000000                    0.000000   \n",
       "50%               -757.000000         1.000000                    0.000000   \n",
       "75%               -274.000000         1.000000                    0.000000   \n",
       "max                  0.000000         1.000000                    4.000000   \n",
       "\n",
       "       AMT_REQ_CREDIT_BUREAU_DAY  AMT_REQ_CREDIT_BUREAU_WEEK  \\\n",
       "count              307511.000000               307511.000000   \n",
       "mean                    0.006055                    0.029723   \n",
       "std                     0.103037                    0.190728   \n",
       "min                     0.000000                    0.000000   \n",
       "25%                     0.000000                    0.000000   \n",
       "50%                     0.000000                    0.000000   \n",
       "75%                     0.000000                    0.000000   \n",
       "max                     9.000000                    8.000000   \n",
       "\n",
       "       AMT_REQ_CREDIT_BUREAU_MON  AMT_REQ_CREDIT_BUREAU_QRT  \\\n",
       "count              307511.000000              307511.000000   \n",
       "mean                    0.231293                   0.229631   \n",
       "std                     0.856810                   0.744059   \n",
       "min                     0.000000                   0.000000   \n",
       "25%                     0.000000                   0.000000   \n",
       "50%                     0.000000                   0.000000   \n",
       "75%                     0.000000                   0.000000   \n",
       "max                    27.000000                 261.000000   \n",
       "\n",
       "       AMT_REQ_CREDIT_BUREAU_YEAR  \n",
       "count               307511.000000  \n",
       "mean                     1.778463  \n",
       "std                      1.765523  \n",
       "min                      0.000000  \n",
       "25%                      1.000000  \n",
       "50%                      1.000000  \n",
       "75%                      3.000000  \n",
       "max                     25.000000  \n",
       "\n",
       "[8 rows x 36 columns]"
      ]
     },
     "execution_count": 37,
     "metadata": {},
     "output_type": "execute_result"
    }
   ],
   "source": [
    "data1.describe()"
   ]
  },
  {
   "cell_type": "markdown",
   "id": "3f56ef16",
   "metadata": {},
   "source": [
    "#### Key Takeaways"
   ]
  },
  {
   "cell_type": "markdown",
   "id": "4eb6ec9d",
   "metadata": {},
   "source": [
    "We can observe from the results described above that"
   ]
  },
  {
   "cell_type": "markdown",
   "id": "706b51bb",
   "metadata": {},
   "source": [
    "Columns AMT_INCOME_TOTAL, AMT_CREDIT, and AMT_GOODS_PRICE have extremely large values, hence these numerical columns will be converted to category columns for better understanding."
   ]
  },
  {
   "cell_type": "markdown",
   "id": "fb1061f8",
   "metadata": {},
   "source": [
    "Negative values can be seen in the columns DAYS_BIRTH, DAYS_EMPLOYED, DAYS_REGISTRATION, DAYS_ID_PUBLIC, and DAYS_LAST_PHONE_CHANGE that count days. hence, those values will be corrected."
   ]
  },
  {
   "cell_type": "markdown",
   "id": "37dd248f",
   "metadata": {},
   "source": [
    "convert DAYS_EMPLOYED to YEARS EMPLOYED and DAYS_BIRTH to AGE in years"
   ]
  },
  {
   "cell_type": "code",
   "execution_count": 38,
   "id": "29793d1d",
   "metadata": {},
   "outputs": [],
   "source": [
    "#Columns AMT_INCOME_TOTAL, AMT_CREDIT, and AMT_GOODS_PRICE"
   ]
  },
  {
   "cell_type": "code",
   "execution_count": 39,
   "id": "b15671e8",
   "metadata": {},
   "outputs": [],
   "source": [
    "# Making bins for income amounts displayed in lakhs.\n",
    "data1['AMT_INCOME_TOTAL']=data1['AMT_INCOME_TOTAL']/100000\n",
    "\n",
    "bins = [0,1,2,3,4,5,6,7,8,9,10,11]\n",
    "slot = ['0-1L','1L-2L', '2L-3L','3L-4L','4L-5L','5L-6L','6L-7L','7L-8L','8L-9L','9L-10L','10L Above']\n",
    "\n",
    "data1['AMT_INCOME_RANGE']=pd.cut(data1['AMT_INCOME_TOTAL'],bins,labels=slot)"
   ]
  },
  {
   "cell_type": "code",
   "execution_count": 40,
   "id": "72dadeec",
   "metadata": {},
   "outputs": [
    {
     "data": {
      "text/plain": [
       "1L-2L        50.73\n",
       "2L-3L        21.21\n",
       "0-1L         20.73\n",
       "3L-4L         4.78\n",
       "4L-5L         1.74\n",
       "5L-6L         0.36\n",
       "6L-7L         0.28\n",
       "8L-9L         0.10\n",
       "7L-8L         0.05\n",
       "9L-10L        0.01\n",
       "10L Above     0.01\n",
       "Name: AMT_INCOME_RANGE, dtype: float64"
      ]
     },
     "execution_count": 40,
     "metadata": {},
     "output_type": "execute_result"
    }
   ],
   "source": [
    "round((data1[\"AMT_INCOME_RANGE\"].value_counts(normalize = True)*100),2)"
   ]
  },
  {
   "cell_type": "code",
   "execution_count": 41,
   "id": "b5cf8734",
   "metadata": {},
   "outputs": [],
   "source": [
    "# Making bins for the amount of credit in lakhs\n",
    "data1['AMT_CREDIT']=data1['AMT_CREDIT']/100000\n",
    "\n",
    "bins = [0,1,2,3,4,5,6,7,8,9,10,100]\n",
    "slots = ['0-1L','1L-2L', '2L-3L','3L-4L','4L-5L','5L-6L','6L-7L','7L-8L','8L-9L','9L-10L','10L Above']\n",
    "\n",
    "data1['AMT_CREDIT_RANGE']=pd.cut(data1['AMT_CREDIT'],bins=bins,labels=slots)"
   ]
  },
  {
   "cell_type": "code",
   "execution_count": 42,
   "id": "d1f20c4c",
   "metadata": {},
   "outputs": [
    {
     "data": {
      "text/plain": [
       "2L-3L        17.82\n",
       "10L Above    16.25\n",
       "5L-6L        11.13\n",
       "4L-5L        10.42\n",
       "1L-2L         9.80\n",
       "3L-4L         8.56\n",
       "6L-7L         7.82\n",
       "8L-9L         7.09\n",
       "7L-8L         6.24\n",
       "9L-10L        2.90\n",
       "0-1L          1.95\n",
       "Name: AMT_CREDIT_RANGE, dtype: float64"
      ]
     },
     "execution_count": 42,
     "metadata": {},
     "output_type": "execute_result"
    }
   ],
   "source": [
    "round((data1[\"AMT_CREDIT_RANGE\"].value_counts(normalize = True)*100),2)"
   ]
  },
  {
   "cell_type": "code",
   "execution_count": 43,
   "id": "4120baee",
   "metadata": {},
   "outputs": [],
   "source": [
    "# Making bins for goods prices in lakhs\n",
    "data1['AMT_GOODS_PRICE']=data1['AMT_GOODS_PRICE']/100000\n",
    "\n",
    "bins = [0,1,2,3,4,5,6,7,8,9,10,100]\n",
    "slots = ['0-1L','1L-2L', '2L-3L','3L-4L','4L-5L','5L-6L','6L-7L','7L-8L','8L-9L','9L-10L','10L Above']\n",
    "\n",
    "data1['AMT_GOODS_PRICE_RANGE']=pd.cut(data1['AMT_GOODS_PRICE'],bins=bins,labels=slots)"
   ]
  },
  {
   "cell_type": "code",
   "execution_count": 44,
   "id": "23f84dca",
   "metadata": {},
   "outputs": [
    {
     "data": {
      "text/plain": [
       "2L-3L        20.43\n",
       "4L-5L        18.54\n",
       "6L-7L        13.03\n",
       "10L Above    11.11\n",
       "1L-2L        10.73\n",
       "8L-9L         6.99\n",
       "3L-4L         6.91\n",
       "5L-6L         4.27\n",
       "0-1L          2.83\n",
       "7L-8L         2.64\n",
       "9L-10L        2.53\n",
       "Name: AMT_GOODS_PRICE_RANGE, dtype: float64"
      ]
     },
     "execution_count": 44,
     "metadata": {},
     "output_type": "execute_result"
    }
   ],
   "source": [
    "round((data1[\"AMT_GOODS_PRICE_RANGE\"].value_counts(normalize = True)*100),2)"
   ]
  },
  {
   "cell_type": "code",
   "execution_count": 45,
   "id": "c864fca7",
   "metadata": {},
   "outputs": [],
   "source": [
    "#DAYS_BIRTH, DAYS_EMPLOYED, DAYS_REGISTRATION, DAYS_ID_PUBLISH, DAYS_LAST_PHONE_CHANGE"
   ]
  },
  {
   "cell_type": "code",
   "execution_count": 46,
   "id": "0896643a",
   "metadata": {},
   "outputs": [
    {
     "data": {
      "text/html": [
       "<div>\n",
       "<style scoped>\n",
       "    .dataframe tbody tr th:only-of-type {\n",
       "        vertical-align: middle;\n",
       "    }\n",
       "\n",
       "    .dataframe tbody tr th {\n",
       "        vertical-align: top;\n",
       "    }\n",
       "\n",
       "    .dataframe thead th {\n",
       "        text-align: right;\n",
       "    }\n",
       "</style>\n",
       "<table border=\"1\" class=\"dataframe\">\n",
       "  <thead>\n",
       "    <tr style=\"text-align: right;\">\n",
       "      <th></th>\n",
       "      <th>DAYS_BIRTH</th>\n",
       "      <th>DAYS_EMPLOYED</th>\n",
       "      <th>DAYS_REGISTRATION</th>\n",
       "      <th>DAYS_ID_PUBLISH</th>\n",
       "      <th>DAYS_LAST_PHONE_CHANGE</th>\n",
       "    </tr>\n",
       "  </thead>\n",
       "  <tbody>\n",
       "    <tr>\n",
       "      <th>count</th>\n",
       "      <td>307511.000000</td>\n",
       "      <td>307511.000000</td>\n",
       "      <td>307511.000000</td>\n",
       "      <td>307511.000000</td>\n",
       "      <td>307510.000000</td>\n",
       "    </tr>\n",
       "    <tr>\n",
       "      <th>mean</th>\n",
       "      <td>-16036.995067</td>\n",
       "      <td>63815.045904</td>\n",
       "      <td>-4986.120328</td>\n",
       "      <td>-2994.202373</td>\n",
       "      <td>-962.858788</td>\n",
       "    </tr>\n",
       "    <tr>\n",
       "      <th>std</th>\n",
       "      <td>4363.988632</td>\n",
       "      <td>141275.766519</td>\n",
       "      <td>3522.886321</td>\n",
       "      <td>1509.450419</td>\n",
       "      <td>826.808487</td>\n",
       "    </tr>\n",
       "    <tr>\n",
       "      <th>min</th>\n",
       "      <td>-25229.000000</td>\n",
       "      <td>-17912.000000</td>\n",
       "      <td>-24672.000000</td>\n",
       "      <td>-7197.000000</td>\n",
       "      <td>-4292.000000</td>\n",
       "    </tr>\n",
       "    <tr>\n",
       "      <th>25%</th>\n",
       "      <td>-19682.000000</td>\n",
       "      <td>-2760.000000</td>\n",
       "      <td>-7479.500000</td>\n",
       "      <td>-4299.000000</td>\n",
       "      <td>-1570.000000</td>\n",
       "    </tr>\n",
       "    <tr>\n",
       "      <th>50%</th>\n",
       "      <td>-15750.000000</td>\n",
       "      <td>-1213.000000</td>\n",
       "      <td>-4504.000000</td>\n",
       "      <td>-3254.000000</td>\n",
       "      <td>-757.000000</td>\n",
       "    </tr>\n",
       "    <tr>\n",
       "      <th>75%</th>\n",
       "      <td>-12413.000000</td>\n",
       "      <td>-289.000000</td>\n",
       "      <td>-2010.000000</td>\n",
       "      <td>-1720.000000</td>\n",
       "      <td>-274.000000</td>\n",
       "    </tr>\n",
       "    <tr>\n",
       "      <th>max</th>\n",
       "      <td>-7489.000000</td>\n",
       "      <td>365243.000000</td>\n",
       "      <td>0.000000</td>\n",
       "      <td>0.000000</td>\n",
       "      <td>0.000000</td>\n",
       "    </tr>\n",
       "  </tbody>\n",
       "</table>\n",
       "</div>"
      ],
      "text/plain": [
       "          DAYS_BIRTH  DAYS_EMPLOYED  DAYS_REGISTRATION  DAYS_ID_PUBLISH  \\\n",
       "count  307511.000000  307511.000000      307511.000000    307511.000000   \n",
       "mean   -16036.995067   63815.045904       -4986.120328     -2994.202373   \n",
       "std      4363.988632  141275.766519        3522.886321      1509.450419   \n",
       "min    -25229.000000  -17912.000000      -24672.000000     -7197.000000   \n",
       "25%    -19682.000000   -2760.000000       -7479.500000     -4299.000000   \n",
       "50%    -15750.000000   -1213.000000       -4504.000000     -3254.000000   \n",
       "75%    -12413.000000    -289.000000       -2010.000000     -1720.000000   \n",
       "max     -7489.000000  365243.000000           0.000000         0.000000   \n",
       "\n",
       "       DAYS_LAST_PHONE_CHANGE  \n",
       "count           307510.000000  \n",
       "mean              -962.858788  \n",
       "std                826.808487  \n",
       "min              -4292.000000  \n",
       "25%              -1570.000000  \n",
       "50%               -757.000000  \n",
       "75%               -274.000000  \n",
       "max                  0.000000  "
      ]
     },
     "execution_count": 46,
     "metadata": {},
     "output_type": "execute_result"
    }
   ],
   "source": [
    "# making \"days_column\" variable to store all days columns\n",
    "days_column = [\"DAYS_BIRTH\", \"DAYS_EMPLOYED\", \"DAYS_REGISTRATION\", \"DAYS_ID_PUBLISH\", \"DAYS_LAST_PHONE_CHANGE\"]\n",
    "data1[days_column].describe()"
   ]
  },
  {
   "cell_type": "code",
   "execution_count": 47,
   "id": "a62fcc2e",
   "metadata": {},
   "outputs": [],
   "source": [
    "data1[days_column]= abs(data1[days_column])"
   ]
  },
  {
   "cell_type": "code",
   "execution_count": 48,
   "id": "00cb9c51",
   "metadata": {},
   "outputs": [
    {
     "data": {
      "text/html": [
       "<div>\n",
       "<style scoped>\n",
       "    .dataframe tbody tr th:only-of-type {\n",
       "        vertical-align: middle;\n",
       "    }\n",
       "\n",
       "    .dataframe tbody tr th {\n",
       "        vertical-align: top;\n",
       "    }\n",
       "\n",
       "    .dataframe thead th {\n",
       "        text-align: right;\n",
       "    }\n",
       "</style>\n",
       "<table border=\"1\" class=\"dataframe\">\n",
       "  <thead>\n",
       "    <tr style=\"text-align: right;\">\n",
       "      <th></th>\n",
       "      <th>DAYS_BIRTH</th>\n",
       "      <th>DAYS_EMPLOYED</th>\n",
       "      <th>DAYS_REGISTRATION</th>\n",
       "      <th>DAYS_ID_PUBLISH</th>\n",
       "      <th>DAYS_LAST_PHONE_CHANGE</th>\n",
       "    </tr>\n",
       "  </thead>\n",
       "  <tbody>\n",
       "    <tr>\n",
       "      <th>count</th>\n",
       "      <td>307511.000000</td>\n",
       "      <td>307511.000000</td>\n",
       "      <td>307511.000000</td>\n",
       "      <td>307511.000000</td>\n",
       "      <td>307510.000000</td>\n",
       "    </tr>\n",
       "    <tr>\n",
       "      <th>mean</th>\n",
       "      <td>16036.995067</td>\n",
       "      <td>67724.742149</td>\n",
       "      <td>4986.120328</td>\n",
       "      <td>2994.202373</td>\n",
       "      <td>962.858788</td>\n",
       "    </tr>\n",
       "    <tr>\n",
       "      <th>std</th>\n",
       "      <td>4363.988632</td>\n",
       "      <td>139443.751806</td>\n",
       "      <td>3522.886321</td>\n",
       "      <td>1509.450419</td>\n",
       "      <td>826.808487</td>\n",
       "    </tr>\n",
       "    <tr>\n",
       "      <th>min</th>\n",
       "      <td>7489.000000</td>\n",
       "      <td>0.000000</td>\n",
       "      <td>0.000000</td>\n",
       "      <td>0.000000</td>\n",
       "      <td>0.000000</td>\n",
       "    </tr>\n",
       "    <tr>\n",
       "      <th>25%</th>\n",
       "      <td>12413.000000</td>\n",
       "      <td>933.000000</td>\n",
       "      <td>2010.000000</td>\n",
       "      <td>1720.000000</td>\n",
       "      <td>274.000000</td>\n",
       "    </tr>\n",
       "    <tr>\n",
       "      <th>50%</th>\n",
       "      <td>15750.000000</td>\n",
       "      <td>2219.000000</td>\n",
       "      <td>4504.000000</td>\n",
       "      <td>3254.000000</td>\n",
       "      <td>757.000000</td>\n",
       "    </tr>\n",
       "    <tr>\n",
       "      <th>75%</th>\n",
       "      <td>19682.000000</td>\n",
       "      <td>5707.000000</td>\n",
       "      <td>7479.500000</td>\n",
       "      <td>4299.000000</td>\n",
       "      <td>1570.000000</td>\n",
       "    </tr>\n",
       "    <tr>\n",
       "      <th>max</th>\n",
       "      <td>25229.000000</td>\n",
       "      <td>365243.000000</td>\n",
       "      <td>24672.000000</td>\n",
       "      <td>7197.000000</td>\n",
       "      <td>4292.000000</td>\n",
       "    </tr>\n",
       "  </tbody>\n",
       "</table>\n",
       "</div>"
      ],
      "text/plain": [
       "          DAYS_BIRTH  DAYS_EMPLOYED  DAYS_REGISTRATION  DAYS_ID_PUBLISH  \\\n",
       "count  307511.000000  307511.000000      307511.000000    307511.000000   \n",
       "mean    16036.995067   67724.742149        4986.120328      2994.202373   \n",
       "std      4363.988632  139443.751806        3522.886321      1509.450419   \n",
       "min      7489.000000       0.000000           0.000000         0.000000   \n",
       "25%     12413.000000     933.000000        2010.000000      1720.000000   \n",
       "50%     15750.000000    2219.000000        4504.000000      3254.000000   \n",
       "75%     19682.000000    5707.000000        7479.500000      4299.000000   \n",
       "max     25229.000000  365243.000000       24672.000000      7197.000000   \n",
       "\n",
       "       DAYS_LAST_PHONE_CHANGE  \n",
       "count           307510.000000  \n",
       "mean               962.858788  \n",
       "std                826.808487  \n",
       "min                  0.000000  \n",
       "25%                274.000000  \n",
       "50%                757.000000  \n",
       "75%               1570.000000  \n",
       "max               4292.000000  "
      ]
     },
     "execution_count": 48,
     "metadata": {},
     "output_type": "execute_result"
    }
   ],
   "source": [
    "data1[days_column].describe()"
   ]
  },
  {
   "cell_type": "code",
   "execution_count": 49,
   "id": "d0851f5e",
   "metadata": {},
   "outputs": [],
   "source": [
    "#DAYS_EMPLOYED to YEARS EMPLOYED and DAYS_BIRTH to AGE in years"
   ]
  },
  {
   "cell_type": "code",
   "execution_count": 50,
   "id": "2ae9127c",
   "metadata": {},
   "outputs": [],
   "source": [
    "data1[\"AGE\"] = data1[\"DAYS_BIRTH\"]/365\n",
    "bins = [0,20,25,30,35,40,45,50,55,60,100]\n",
    "slots = [\"0-20\",\"20-25\",\"25-30\",\"30-35\",\"35-40\",\"40-45\",\"45-50\",\"50-55\",\"55-60\",\"60 Above\"]\n",
    "\n",
    "data1[\"AGE_GROUP\"] = pd.cut(data1[\"AGE\"], bins=bins, labels=slots)"
   ]
  },
  {
   "cell_type": "code",
   "execution_count": 51,
   "id": "254db1c3",
   "metadata": {},
   "outputs": [
    {
     "data": {
      "text/plain": [
       "35-40       13.940314\n",
       "40-45       13.464884\n",
       "30-35       12.825557\n",
       "60 Above    11.569993\n",
       "45-50       11.425608\n",
       "50-55       11.362846\n",
       "55-60       10.770346\n",
       "25-30       10.686447\n",
       "20-25        3.954005\n",
       "0-20         0.000000\n",
       "Name: AGE_GROUP, dtype: float64"
      ]
     },
     "execution_count": 51,
     "metadata": {},
     "output_type": "execute_result"
    }
   ],
   "source": [
    "data1[\"AGE_GROUP\"].value_counts(normalize= True)*100"
   ]
  },
  {
   "cell_type": "code",
   "execution_count": 52,
   "id": "e4734a75",
   "metadata": {},
   "outputs": [],
   "source": [
    "#creating column \"EMPLOYEMENT_YEARS\" from \"DAYS_EMPLOYED\"\n",
    "\n",
    "data1[\"YEARS_EMPLOYED\"] = data1[\"DAYS_EMPLOYED\"]/365\n",
    "bins = [0,5,10,15,20,25,30,50]\n",
    "slots = [\"0-5\",\"5-10\",\"10-15\",\"15-20\",\"20-25\",\"25-30\",\"30 Above\"]\n",
    "\n",
    "data1[\"EMPLOYEMENT_YEARS\"] = pd.cut(data1[\"YEARS_EMPLOYED\"], bins=bins, labels=slots)"
   ]
  },
  {
   "cell_type": "code",
   "execution_count": 53,
   "id": "fcee6ecb",
   "metadata": {},
   "outputs": [
    {
     "data": {
      "text/plain": [
       "0-5         54.061911\n",
       "5-10        25.729074\n",
       "10-15       10.926289\n",
       "15-20        4.302854\n",
       "20-25        2.476054\n",
       "25-30        1.311996\n",
       "30 Above     1.191822\n",
       "Name: EMPLOYEMENT_YEARS, dtype: float64"
      ]
     },
     "execution_count": 53,
     "metadata": {},
     "output_type": "execute_result"
    }
   ],
   "source": [
    "data1[\"EMPLOYEMENT_YEARS\"].value_counts(normalize= True)*100"
   ]
  },
  {
   "cell_type": "markdown",
   "id": "7fb743fb",
   "metadata": {},
   "source": [
    "### Step 5 - Identifying Outliers"
   ]
  },
  {
   "cell_type": "code",
   "execution_count": 54,
   "id": "7685d575",
   "metadata": {},
   "outputs": [
    {
     "data": {
      "text/html": [
       "<div>\n",
       "<style scoped>\n",
       "    .dataframe tbody tr th:only-of-type {\n",
       "        vertical-align: middle;\n",
       "    }\n",
       "\n",
       "    .dataframe tbody tr th {\n",
       "        vertical-align: top;\n",
       "    }\n",
       "\n",
       "    .dataframe thead th {\n",
       "        text-align: right;\n",
       "    }\n",
       "</style>\n",
       "<table border=\"1\" class=\"dataframe\">\n",
       "  <thead>\n",
       "    <tr style=\"text-align: right;\">\n",
       "      <th></th>\n",
       "      <th>SK_ID_CURR</th>\n",
       "      <th>TARGET</th>\n",
       "      <th>CNT_CHILDREN</th>\n",
       "      <th>AMT_INCOME_TOTAL</th>\n",
       "      <th>AMT_CREDIT</th>\n",
       "      <th>AMT_ANNUITY</th>\n",
       "      <th>AMT_GOODS_PRICE</th>\n",
       "      <th>REGION_POPULATION_RELATIVE</th>\n",
       "      <th>DAYS_BIRTH</th>\n",
       "      <th>DAYS_EMPLOYED</th>\n",
       "      <th>...</th>\n",
       "      <th>DAYS_LAST_PHONE_CHANGE</th>\n",
       "      <th>FLAG_DOCUMENT_3</th>\n",
       "      <th>AMT_REQ_CREDIT_BUREAU_HOUR</th>\n",
       "      <th>AMT_REQ_CREDIT_BUREAU_DAY</th>\n",
       "      <th>AMT_REQ_CREDIT_BUREAU_WEEK</th>\n",
       "      <th>AMT_REQ_CREDIT_BUREAU_MON</th>\n",
       "      <th>AMT_REQ_CREDIT_BUREAU_QRT</th>\n",
       "      <th>AMT_REQ_CREDIT_BUREAU_YEAR</th>\n",
       "      <th>AGE</th>\n",
       "      <th>YEARS_EMPLOYED</th>\n",
       "    </tr>\n",
       "  </thead>\n",
       "  <tbody>\n",
       "    <tr>\n",
       "      <th>count</th>\n",
       "      <td>307511.000000</td>\n",
       "      <td>307511.000000</td>\n",
       "      <td>307511.000000</td>\n",
       "      <td>307511.000000</td>\n",
       "      <td>307511.000000</td>\n",
       "      <td>307499.000000</td>\n",
       "      <td>307233.000000</td>\n",
       "      <td>307511.000000</td>\n",
       "      <td>307511.000000</td>\n",
       "      <td>307511.000000</td>\n",
       "      <td>...</td>\n",
       "      <td>307510.000000</td>\n",
       "      <td>307511.000000</td>\n",
       "      <td>307511.000000</td>\n",
       "      <td>307511.000000</td>\n",
       "      <td>307511.000000</td>\n",
       "      <td>307511.000000</td>\n",
       "      <td>307511.000000</td>\n",
       "      <td>307511.000000</td>\n",
       "      <td>307511.000000</td>\n",
       "      <td>307511.000000</td>\n",
       "    </tr>\n",
       "    <tr>\n",
       "      <th>mean</th>\n",
       "      <td>278180.518577</td>\n",
       "      <td>0.080729</td>\n",
       "      <td>0.417052</td>\n",
       "      <td>1.687979</td>\n",
       "      <td>5.990260</td>\n",
       "      <td>27108.573909</td>\n",
       "      <td>5.383962</td>\n",
       "      <td>0.020868</td>\n",
       "      <td>16036.995067</td>\n",
       "      <td>67724.742149</td>\n",
       "      <td>...</td>\n",
       "      <td>962.858788</td>\n",
       "      <td>0.710023</td>\n",
       "      <td>0.005538</td>\n",
       "      <td>0.006055</td>\n",
       "      <td>0.029723</td>\n",
       "      <td>0.231293</td>\n",
       "      <td>0.229631</td>\n",
       "      <td>1.778463</td>\n",
       "      <td>43.936973</td>\n",
       "      <td>185.547239</td>\n",
       "    </tr>\n",
       "    <tr>\n",
       "      <th>std</th>\n",
       "      <td>102790.175348</td>\n",
       "      <td>0.272419</td>\n",
       "      <td>0.722121</td>\n",
       "      <td>2.371231</td>\n",
       "      <td>4.024908</td>\n",
       "      <td>14493.737315</td>\n",
       "      <td>3.694465</td>\n",
       "      <td>0.013831</td>\n",
       "      <td>4363.988632</td>\n",
       "      <td>139443.751806</td>\n",
       "      <td>...</td>\n",
       "      <td>826.808487</td>\n",
       "      <td>0.453752</td>\n",
       "      <td>0.078014</td>\n",
       "      <td>0.103037</td>\n",
       "      <td>0.190728</td>\n",
       "      <td>0.856810</td>\n",
       "      <td>0.744059</td>\n",
       "      <td>1.765523</td>\n",
       "      <td>11.956133</td>\n",
       "      <td>382.037676</td>\n",
       "    </tr>\n",
       "    <tr>\n",
       "      <th>min</th>\n",
       "      <td>100002.000000</td>\n",
       "      <td>0.000000</td>\n",
       "      <td>0.000000</td>\n",
       "      <td>0.256500</td>\n",
       "      <td>0.450000</td>\n",
       "      <td>1615.500000</td>\n",
       "      <td>0.405000</td>\n",
       "      <td>0.000290</td>\n",
       "      <td>7489.000000</td>\n",
       "      <td>0.000000</td>\n",
       "      <td>...</td>\n",
       "      <td>0.000000</td>\n",
       "      <td>0.000000</td>\n",
       "      <td>0.000000</td>\n",
       "      <td>0.000000</td>\n",
       "      <td>0.000000</td>\n",
       "      <td>0.000000</td>\n",
       "      <td>0.000000</td>\n",
       "      <td>0.000000</td>\n",
       "      <td>20.517808</td>\n",
       "      <td>0.000000</td>\n",
       "    </tr>\n",
       "    <tr>\n",
       "      <th>25%</th>\n",
       "      <td>189145.500000</td>\n",
       "      <td>0.000000</td>\n",
       "      <td>0.000000</td>\n",
       "      <td>1.125000</td>\n",
       "      <td>2.700000</td>\n",
       "      <td>16524.000000</td>\n",
       "      <td>2.385000</td>\n",
       "      <td>0.010006</td>\n",
       "      <td>12413.000000</td>\n",
       "      <td>933.000000</td>\n",
       "      <td>...</td>\n",
       "      <td>274.000000</td>\n",
       "      <td>0.000000</td>\n",
       "      <td>0.000000</td>\n",
       "      <td>0.000000</td>\n",
       "      <td>0.000000</td>\n",
       "      <td>0.000000</td>\n",
       "      <td>0.000000</td>\n",
       "      <td>1.000000</td>\n",
       "      <td>34.008219</td>\n",
       "      <td>2.556164</td>\n",
       "    </tr>\n",
       "    <tr>\n",
       "      <th>50%</th>\n",
       "      <td>278202.000000</td>\n",
       "      <td>0.000000</td>\n",
       "      <td>0.000000</td>\n",
       "      <td>1.471500</td>\n",
       "      <td>5.135310</td>\n",
       "      <td>24903.000000</td>\n",
       "      <td>4.500000</td>\n",
       "      <td>0.018850</td>\n",
       "      <td>15750.000000</td>\n",
       "      <td>2219.000000</td>\n",
       "      <td>...</td>\n",
       "      <td>757.000000</td>\n",
       "      <td>1.000000</td>\n",
       "      <td>0.000000</td>\n",
       "      <td>0.000000</td>\n",
       "      <td>0.000000</td>\n",
       "      <td>0.000000</td>\n",
       "      <td>0.000000</td>\n",
       "      <td>1.000000</td>\n",
       "      <td>43.150685</td>\n",
       "      <td>6.079452</td>\n",
       "    </tr>\n",
       "    <tr>\n",
       "      <th>75%</th>\n",
       "      <td>367142.500000</td>\n",
       "      <td>0.000000</td>\n",
       "      <td>1.000000</td>\n",
       "      <td>2.025000</td>\n",
       "      <td>8.086500</td>\n",
       "      <td>34596.000000</td>\n",
       "      <td>6.795000</td>\n",
       "      <td>0.028663</td>\n",
       "      <td>19682.000000</td>\n",
       "      <td>5707.000000</td>\n",
       "      <td>...</td>\n",
       "      <td>1570.000000</td>\n",
       "      <td>1.000000</td>\n",
       "      <td>0.000000</td>\n",
       "      <td>0.000000</td>\n",
       "      <td>0.000000</td>\n",
       "      <td>0.000000</td>\n",
       "      <td>0.000000</td>\n",
       "      <td>3.000000</td>\n",
       "      <td>53.923288</td>\n",
       "      <td>15.635616</td>\n",
       "    </tr>\n",
       "    <tr>\n",
       "      <th>max</th>\n",
       "      <td>456255.000000</td>\n",
       "      <td>1.000000</td>\n",
       "      <td>19.000000</td>\n",
       "      <td>1170.000000</td>\n",
       "      <td>40.500000</td>\n",
       "      <td>258025.500000</td>\n",
       "      <td>40.500000</td>\n",
       "      <td>0.072508</td>\n",
       "      <td>25229.000000</td>\n",
       "      <td>365243.000000</td>\n",
       "      <td>...</td>\n",
       "      <td>4292.000000</td>\n",
       "      <td>1.000000</td>\n",
       "      <td>4.000000</td>\n",
       "      <td>9.000000</td>\n",
       "      <td>8.000000</td>\n",
       "      <td>27.000000</td>\n",
       "      <td>261.000000</td>\n",
       "      <td>25.000000</td>\n",
       "      <td>69.120548</td>\n",
       "      <td>1000.665753</td>\n",
       "    </tr>\n",
       "  </tbody>\n",
       "</table>\n",
       "<p>8 rows × 38 columns</p>\n",
       "</div>"
      ],
      "text/plain": [
       "          SK_ID_CURR         TARGET   CNT_CHILDREN  AMT_INCOME_TOTAL  \\\n",
       "count  307511.000000  307511.000000  307511.000000     307511.000000   \n",
       "mean   278180.518577       0.080729       0.417052          1.687979   \n",
       "std    102790.175348       0.272419       0.722121          2.371231   \n",
       "min    100002.000000       0.000000       0.000000          0.256500   \n",
       "25%    189145.500000       0.000000       0.000000          1.125000   \n",
       "50%    278202.000000       0.000000       0.000000          1.471500   \n",
       "75%    367142.500000       0.000000       1.000000          2.025000   \n",
       "max    456255.000000       1.000000      19.000000       1170.000000   \n",
       "\n",
       "          AMT_CREDIT    AMT_ANNUITY  AMT_GOODS_PRICE  \\\n",
       "count  307511.000000  307499.000000    307233.000000   \n",
       "mean        5.990260   27108.573909         5.383962   \n",
       "std         4.024908   14493.737315         3.694465   \n",
       "min         0.450000    1615.500000         0.405000   \n",
       "25%         2.700000   16524.000000         2.385000   \n",
       "50%         5.135310   24903.000000         4.500000   \n",
       "75%         8.086500   34596.000000         6.795000   \n",
       "max        40.500000  258025.500000        40.500000   \n",
       "\n",
       "       REGION_POPULATION_RELATIVE     DAYS_BIRTH  DAYS_EMPLOYED  ...  \\\n",
       "count               307511.000000  307511.000000  307511.000000  ...   \n",
       "mean                     0.020868   16036.995067   67724.742149  ...   \n",
       "std                      0.013831    4363.988632  139443.751806  ...   \n",
       "min                      0.000290    7489.000000       0.000000  ...   \n",
       "25%                      0.010006   12413.000000     933.000000  ...   \n",
       "50%                      0.018850   15750.000000    2219.000000  ...   \n",
       "75%                      0.028663   19682.000000    5707.000000  ...   \n",
       "max                      0.072508   25229.000000  365243.000000  ...   \n",
       "\n",
       "       DAYS_LAST_PHONE_CHANGE  FLAG_DOCUMENT_3  AMT_REQ_CREDIT_BUREAU_HOUR  \\\n",
       "count           307510.000000    307511.000000               307511.000000   \n",
       "mean               962.858788         0.710023                    0.005538   \n",
       "std                826.808487         0.453752                    0.078014   \n",
       "min                  0.000000         0.000000                    0.000000   \n",
       "25%                274.000000         0.000000                    0.000000   \n",
       "50%                757.000000         1.000000                    0.000000   \n",
       "75%               1570.000000         1.000000                    0.000000   \n",
       "max               4292.000000         1.000000                    4.000000   \n",
       "\n",
       "       AMT_REQ_CREDIT_BUREAU_DAY  AMT_REQ_CREDIT_BUREAU_WEEK  \\\n",
       "count              307511.000000               307511.000000   \n",
       "mean                    0.006055                    0.029723   \n",
       "std                     0.103037                    0.190728   \n",
       "min                     0.000000                    0.000000   \n",
       "25%                     0.000000                    0.000000   \n",
       "50%                     0.000000                    0.000000   \n",
       "75%                     0.000000                    0.000000   \n",
       "max                     9.000000                    8.000000   \n",
       "\n",
       "       AMT_REQ_CREDIT_BUREAU_MON  AMT_REQ_CREDIT_BUREAU_QRT  \\\n",
       "count              307511.000000              307511.000000   \n",
       "mean                    0.231293                   0.229631   \n",
       "std                     0.856810                   0.744059   \n",
       "min                     0.000000                   0.000000   \n",
       "25%                     0.000000                   0.000000   \n",
       "50%                     0.000000                   0.000000   \n",
       "75%                     0.000000                   0.000000   \n",
       "max                    27.000000                 261.000000   \n",
       "\n",
       "       AMT_REQ_CREDIT_BUREAU_YEAR            AGE  YEARS_EMPLOYED  \n",
       "count               307511.000000  307511.000000   307511.000000  \n",
       "mean                     1.778463      43.936973      185.547239  \n",
       "std                      1.765523      11.956133      382.037676  \n",
       "min                      0.000000      20.517808        0.000000  \n",
       "25%                      1.000000      34.008219        2.556164  \n",
       "50%                      1.000000      43.150685        6.079452  \n",
       "75%                      3.000000      53.923288       15.635616  \n",
       "max                     25.000000      69.120548     1000.665753  \n",
       "\n",
       "[8 rows x 38 columns]"
      ]
     },
     "execution_count": 54,
     "metadata": {},
     "output_type": "execute_result"
    }
   ],
   "source": [
    "data1.describe()"
   ]
  },
  {
   "cell_type": "code",
   "execution_count": 55,
   "id": "73030247",
   "metadata": {},
   "outputs": [],
   "source": [
    "outlier = [\"CNT_CHILDREN\",\"AMT_INCOME_TOTAL\", \"AMT_CREDIT\", \"AMT_ANNUITY\", \"AMT_GOODS_PRICE\",\n",
    "               \"DAYS_BIRTH\", \"DAYS_EMPLOYED\", \"DAYS_REGISTRATION\"]"
   ]
  },
  {
   "cell_type": "code",
   "execution_count": 56,
   "id": "3b059bde",
   "metadata": {},
   "outputs": [
    {
     "data": {
      "image/png": "[encoded data removed]",
      "text/plain": [
       "<Figure size 1500x2500 with 8 Axes>"
      ]
     },
     "metadata": {},
     "output_type": "display_data"
    }
   ],
   "source": [
    "plt.figure(figsize=[15,25])\n",
    "for i,j in itertools.zip_longest(outlier, range(len(outlier))):\n",
    "    plt.subplot(4,2,j+1)\n",
    "    sns.boxplot(y = data1[i], orient = \"h\", color = \"orange\")\n",
    "    #plt.yticks(fontsize=8)\n",
    "    plt.xlabel(\"\")\n",
    "    plt.ylabel(\"\")\n",
    "    plt.title(i)"
   ]
  },
  {
   "cell_type": "markdown",
   "id": "aee57a11",
   "metadata": {},
   "source": [
    "#### Key Takeaways"
   ]
  },
  {
   "cell_type": "markdown",
   "id": "51e038d8",
   "metadata": {},
   "source": [
    "There are some outliers in the ANNUITY, CREDIT, GOODS_PRICE, and CHILDREN variables.\n",
    "\n",
    "Numerous outliers in INCOME_TOTAL show that few loan applicants have higher incomes than the average, according to the data.\n",
    "\n",
    "The data is trustworthy since DAYS_BIRTH has no outliers.\n",
    "\n",
    "The entry must be wrong because DAYS_EMPLOYED has outlier values of 350000(days), which is approximately 958 years and is implausible."
   ]
  },
  {
   "cell_type": "code",
   "execution_count": 57,
   "id": "891e5120",
   "metadata": {},
   "outputs": [
    {
     "data": {
      "text/plain": [
       "REG_REGION_NOT_LIVE_REGION          2\n",
       "REG_REGION_NOT_WORK_REGION          2\n",
       "LIVE_REGION_NOT_WORK_REGION         2\n",
       "REG_CITY_NOT_WORK_CITY              2\n",
       "LIVE_CITY_NOT_WORK_CITY             2\n",
       "FLAG_DOCUMENT_3                     2\n",
       "REG_CITY_NOT_LIVE_CITY              2\n",
       "FLAG_OWN_REALTY                     2\n",
       "NAME_CONTRACT_TYPE                  2\n",
       "TARGET                              2\n",
       "FLAG_MOBIL                          2\n",
       "CODE_GENDER                         3\n",
       "REGION_RATING_CLIENT                3\n",
       "REGION_RATING_CLIENT_W_CITY         3\n",
       "NAME_EDUCATION_TYPE                 5\n",
       "AMT_REQ_CREDIT_BUREAU_HOUR          5\n",
       "NAME_FAMILY_STATUS                  6\n",
       "NAME_HOUSING_TYPE                   6\n",
       "WEEKDAY_APPR_PROCESS_START          7\n",
       "EMPLOYEMENT_YEARS                   7\n",
       "NAME_TYPE_SUITE                     7\n",
       "NAME_INCOME_TYPE                    8\n",
       "AMT_REQ_CREDIT_BUREAU_WEEK          9\n",
       "AGE_GROUP                           9\n",
       "AMT_REQ_CREDIT_BUREAU_DAY           9\n",
       "DEF_60_CNT_SOCIAL_CIRCLE            9\n",
       "DEF_30_CNT_SOCIAL_CIRCLE           10\n",
       "AMT_GOODS_PRICE_RANGE              11\n",
       "AMT_REQ_CREDIT_BUREAU_QRT          11\n",
       "AMT_INCOME_RANGE                   11\n",
       "AMT_CREDIT_RANGE                   11\n",
       "CNT_CHILDREN                       15\n",
       "CNT_FAM_MEMBERS                    17\n",
       "HOUR_APPR_PROCESS_START            24\n",
       "AMT_REQ_CREDIT_BUREAU_MON          24\n",
       "AMT_REQ_CREDIT_BUREAU_YEAR         25\n",
       "OBS_60_CNT_SOCIAL_CIRCLE           33\n",
       "OBS_30_CNT_SOCIAL_CIRCLE           33\n",
       "ORGANIZATION_TYPE                  58\n",
       "REGION_POPULATION_RELATIVE         81\n",
       "AMT_GOODS_PRICE                  1002\n",
       "AMT_INCOME_TOTAL                 2548\n",
       "DAYS_LAST_PHONE_CHANGE           3773\n",
       "AMT_CREDIT                       5603\n",
       "DAYS_ID_PUBLISH                  6168\n",
       "DAYS_EMPLOYED                   12574\n",
       "YEARS_EMPLOYED                  12574\n",
       "AMT_ANNUITY                     13672\n",
       "DAYS_REGISTRATION               15688\n",
       "AGE                             17460\n",
       "DAYS_BIRTH                      17460\n",
       "EXT_SOURCE_2                   119831\n",
       "SK_ID_CURR                     307511\n",
       "dtype: int64"
      ]
     },
     "execution_count": 57,
     "metadata": {},
     "output_type": "execute_result"
    }
   ],
   "source": [
    "data1.nunique().sort_values()"
   ]
  },
  {
   "cell_type": "code",
   "execution_count": 58,
   "id": "15ed6e6d",
   "metadata": {
    "scrolled": true
   },
   "outputs": [
    {
     "name": "stdout",
     "output_type": "stream",
     "text": [
      "<class 'pandas.core.frame.DataFrame'>\n",
      "RangeIndex: 307511 entries, 0 to 307510\n",
      "Data columns (total 53 columns):\n",
      " #   Column                       Non-Null Count   Dtype   \n",
      "---  ------                       --------------   -----   \n",
      " 0   SK_ID_CURR                   307511 non-null  int64   \n",
      " 1   TARGET                       307511 non-null  int64   \n",
      " 2   NAME_CONTRACT_TYPE           307511 non-null  object  \n",
      " 3   CODE_GENDER                  307511 non-null  object  \n",
      " 4   FLAG_OWN_REALTY              307511 non-null  object  \n",
      " 5   CNT_CHILDREN                 307511 non-null  int64   \n",
      " 6   AMT_INCOME_TOTAL             307511 non-null  float64 \n",
      " 7   AMT_CREDIT                   307511 non-null  float64 \n",
      " 8   AMT_ANNUITY                  307499 non-null  float64 \n",
      " 9   AMT_GOODS_PRICE              307233 non-null  float64 \n",
      " 10  NAME_TYPE_SUITE              306219 non-null  object  \n",
      " 11  NAME_INCOME_TYPE             307511 non-null  object  \n",
      " 12  NAME_EDUCATION_TYPE          307511 non-null  object  \n",
      " 13  NAME_FAMILY_STATUS           307511 non-null  object  \n",
      " 14  NAME_HOUSING_TYPE            307511 non-null  object  \n",
      " 15  REGION_POPULATION_RELATIVE   307511 non-null  float64 \n",
      " 16  DAYS_BIRTH                   307511 non-null  int64   \n",
      " 17  DAYS_EMPLOYED                307511 non-null  int64   \n",
      " 18  DAYS_REGISTRATION            307511 non-null  float64 \n",
      " 19  DAYS_ID_PUBLISH              307511 non-null  int64   \n",
      " 20  FLAG_MOBIL                   307511 non-null  int64   \n",
      " 21  CNT_FAM_MEMBERS              307509 non-null  float64 \n",
      " 22  REGION_RATING_CLIENT         307511 non-null  int64   \n",
      " 23  REGION_RATING_CLIENT_W_CITY  307511 non-null  int64   \n",
      " 24  WEEKDAY_APPR_PROCESS_START   307511 non-null  object  \n",
      " 25  HOUR_APPR_PROCESS_START      307511 non-null  int64   \n",
      " 26  REG_REGION_NOT_LIVE_REGION   307511 non-null  int64   \n",
      " 27  REG_REGION_NOT_WORK_REGION   307511 non-null  int64   \n",
      " 28  LIVE_REGION_NOT_WORK_REGION  307511 non-null  int64   \n",
      " 29  REG_CITY_NOT_LIVE_CITY       307511 non-null  int64   \n",
      " 30  REG_CITY_NOT_WORK_CITY       307511 non-null  int64   \n",
      " 31  LIVE_CITY_NOT_WORK_CITY      307511 non-null  int64   \n",
      " 32  ORGANIZATION_TYPE            307511 non-null  object  \n",
      " 33  EXT_SOURCE_2                 306851 non-null  float64 \n",
      " 34  OBS_30_CNT_SOCIAL_CIRCLE     306490 non-null  float64 \n",
      " 35  DEF_30_CNT_SOCIAL_CIRCLE     306490 non-null  float64 \n",
      " 36  OBS_60_CNT_SOCIAL_CIRCLE     306490 non-null  float64 \n",
      " 37  DEF_60_CNT_SOCIAL_CIRCLE     306490 non-null  float64 \n",
      " 38  DAYS_LAST_PHONE_CHANGE       307510 non-null  float64 \n",
      " 39  FLAG_DOCUMENT_3              307511 non-null  int64   \n",
      " 40  AMT_REQ_CREDIT_BUREAU_HOUR   307511 non-null  float64 \n",
      " 41  AMT_REQ_CREDIT_BUREAU_DAY    307511 non-null  float64 \n",
      " 42  AMT_REQ_CREDIT_BUREAU_WEEK   307511 non-null  float64 \n",
      " 43  AMT_REQ_CREDIT_BUREAU_MON    307511 non-null  float64 \n",
      " 44  AMT_REQ_CREDIT_BUREAU_QRT    307511 non-null  float64 \n",
      " 45  AMT_REQ_CREDIT_BUREAU_YEAR   307511 non-null  float64 \n",
      " 46  AMT_INCOME_RANGE             307279 non-null  category\n",
      " 47  AMT_CREDIT_RANGE             307511 non-null  category\n",
      " 48  AMT_GOODS_PRICE_RANGE        307233 non-null  category\n",
      " 49  AGE                          307511 non-null  float64 \n",
      " 50  AGE_GROUP                    307511 non-null  category\n",
      " 51  YEARS_EMPLOYED               307511 non-null  float64 \n",
      " 52  EMPLOYEMENT_YEARS            252135 non-null  category\n",
      "dtypes: category(5), float64(21), int64(17), object(10)\n",
      "memory usage: 114.1+ MB\n"
     ]
    }
   ],
   "source": [
    "data1.info()"
   ]
  },
  {
   "cell_type": "code",
   "execution_count": 59,
   "id": "f8e02485",
   "metadata": {},
   "outputs": [],
   "source": [
    "#Columns from Object to categorical column."
   ]
  },
  {
   "cell_type": "code",
   "execution_count": 60,
   "id": "9f4334ca",
   "metadata": {},
   "outputs": [
    {
     "data": {
      "text/plain": [
       "Index(['SK_ID_CURR', 'TARGET', 'NAME_CONTRACT_TYPE', 'CODE_GENDER',\n",
       "       'FLAG_OWN_REALTY', 'CNT_CHILDREN', 'AMT_INCOME_TOTAL', 'AMT_CREDIT',\n",
       "       'AMT_ANNUITY', 'AMT_GOODS_PRICE', 'NAME_TYPE_SUITE', 'NAME_INCOME_TYPE',\n",
       "       'NAME_EDUCATION_TYPE', 'NAME_FAMILY_STATUS', 'NAME_HOUSING_TYPE',\n",
       "       'REGION_POPULATION_RELATIVE', 'DAYS_BIRTH', 'DAYS_EMPLOYED',\n",
       "       'DAYS_REGISTRATION', 'DAYS_ID_PUBLISH', 'FLAG_MOBIL', 'CNT_FAM_MEMBERS',\n",
       "       'REGION_RATING_CLIENT', 'REGION_RATING_CLIENT_W_CITY',\n",
       "       'WEEKDAY_APPR_PROCESS_START', 'HOUR_APPR_PROCESS_START',\n",
       "       'REG_REGION_NOT_LIVE_REGION', 'REG_REGION_NOT_WORK_REGION',\n",
       "       'LIVE_REGION_NOT_WORK_REGION', 'REG_CITY_NOT_LIVE_CITY',\n",
       "       'REG_CITY_NOT_WORK_CITY', 'LIVE_CITY_NOT_WORK_CITY',\n",
       "       'ORGANIZATION_TYPE', 'EXT_SOURCE_2', 'OBS_30_CNT_SOCIAL_CIRCLE',\n",
       "       'DEF_30_CNT_SOCIAL_CIRCLE', 'OBS_60_CNT_SOCIAL_CIRCLE',\n",
       "       'DEF_60_CNT_SOCIAL_CIRCLE', 'DAYS_LAST_PHONE_CHANGE', 'FLAG_DOCUMENT_3',\n",
       "       'AMT_REQ_CREDIT_BUREAU_HOUR', 'AMT_REQ_CREDIT_BUREAU_DAY',\n",
       "       'AMT_REQ_CREDIT_BUREAU_WEEK', 'AMT_REQ_CREDIT_BUREAU_MON',\n",
       "       'AMT_REQ_CREDIT_BUREAU_QRT', 'AMT_REQ_CREDIT_BUREAU_YEAR',\n",
       "       'AMT_INCOME_RANGE', 'AMT_CREDIT_RANGE', 'AMT_GOODS_PRICE_RANGE', 'AGE',\n",
       "       'AGE_GROUP', 'YEARS_EMPLOYED', 'EMPLOYEMENT_YEARS'],\n",
       "      dtype='object')"
      ]
     },
     "execution_count": 60,
     "metadata": {},
     "output_type": "execute_result"
    }
   ],
   "source": [
    "data1.columns"
   ]
  },
  {
   "cell_type": "code",
   "execution_count": 61,
   "id": "1bd8792d",
   "metadata": {},
   "outputs": [],
   "source": [
    "#Conversion\n",
    "categorical_columns = ['NAME_CONTRACT_TYPE','CODE_GENDER','NAME_TYPE_SUITE','NAME_INCOME_TYPE','NAME_EDUCATION_TYPE',\n",
    "                       'NAME_FAMILY_STATUS','NAME_HOUSING_TYPE','WEEKDAY_APPR_PROCESS_START',\n",
    "                       'ORGANIZATION_TYPE','FLAG_OWN_REALTY','LIVE_CITY_NOT_WORK_CITY',\n",
    "                       'REG_CITY_NOT_LIVE_CITY','REG_CITY_NOT_WORK_CITY','REG_REGION_NOT_WORK_REGION',\n",
    "                       'LIVE_REGION_NOT_WORK_REGION','REGION_RATING_CLIENT','WEEKDAY_APPR_PROCESS_START',\n",
    "                       'REGION_RATING_CLIENT_W_CITY','CNT_CHILDREN','CNT_FAM_MEMBERS']\n",
    "\n",
    "for col in categorical_columns:\n",
    "    data1[col] = pd.Categorical(data1[col])"
   ]
  },
  {
   "cell_type": "code",
   "execution_count": 62,
   "id": "058ad2a9",
   "metadata": {},
   "outputs": [
    {
     "name": "stdout",
     "output_type": "stream",
     "text": [
      "<class 'pandas.core.frame.DataFrame'>\n",
      "RangeIndex: 307511 entries, 0 to 307510\n",
      "Data columns (total 53 columns):\n",
      " #   Column                       Non-Null Count   Dtype   \n",
      "---  ------                       --------------   -----   \n",
      " 0   SK_ID_CURR                   307511 non-null  int64   \n",
      " 1   TARGET                       307511 non-null  int64   \n",
      " 2   NAME_CONTRACT_TYPE           307511 non-null  category\n",
      " 3   CODE_GENDER                  307511 non-null  category\n",
      " 4   FLAG_OWN_REALTY              307511 non-null  category\n",
      " 5   CNT_CHILDREN                 307511 non-null  category\n",
      " 6   AMT_INCOME_TOTAL             307511 non-null  float64 \n",
      " 7   AMT_CREDIT                   307511 non-null  float64 \n",
      " 8   AMT_ANNUITY                  307499 non-null  float64 \n",
      " 9   AMT_GOODS_PRICE              307233 non-null  float64 \n",
      " 10  NAME_TYPE_SUITE              306219 non-null  category\n",
      " 11  NAME_INCOME_TYPE             307511 non-null  category\n",
      " 12  NAME_EDUCATION_TYPE          307511 non-null  category\n",
      " 13  NAME_FAMILY_STATUS           307511 non-null  category\n",
      " 14  NAME_HOUSING_TYPE            307511 non-null  category\n",
      " 15  REGION_POPULATION_RELATIVE   307511 non-null  float64 \n",
      " 16  DAYS_BIRTH                   307511 non-null  int64   \n",
      " 17  DAYS_EMPLOYED                307511 non-null  int64   \n",
      " 18  DAYS_REGISTRATION            307511 non-null  float64 \n",
      " 19  DAYS_ID_PUBLISH              307511 non-null  int64   \n",
      " 20  FLAG_MOBIL                   307511 non-null  int64   \n",
      " 21  CNT_FAM_MEMBERS              307509 non-null  category\n",
      " 22  REGION_RATING_CLIENT         307511 non-null  category\n",
      " 23  REGION_RATING_CLIENT_W_CITY  307511 non-null  category\n",
      " 24  WEEKDAY_APPR_PROCESS_START   307511 non-null  category\n",
      " 25  HOUR_APPR_PROCESS_START      307511 non-null  int64   \n",
      " 26  REG_REGION_NOT_LIVE_REGION   307511 non-null  int64   \n",
      " 27  REG_REGION_NOT_WORK_REGION   307511 non-null  category\n",
      " 28  LIVE_REGION_NOT_WORK_REGION  307511 non-null  category\n",
      " 29  REG_CITY_NOT_LIVE_CITY       307511 non-null  category\n",
      " 30  REG_CITY_NOT_WORK_CITY       307511 non-null  category\n",
      " 31  LIVE_CITY_NOT_WORK_CITY      307511 non-null  category\n",
      " 32  ORGANIZATION_TYPE            307511 non-null  category\n",
      " 33  EXT_SOURCE_2                 306851 non-null  float64 \n",
      " 34  OBS_30_CNT_SOCIAL_CIRCLE     306490 non-null  float64 \n",
      " 35  DEF_30_CNT_SOCIAL_CIRCLE     306490 non-null  float64 \n",
      " 36  OBS_60_CNT_SOCIAL_CIRCLE     306490 non-null  float64 \n",
      " 37  DEF_60_CNT_SOCIAL_CIRCLE     306490 non-null  float64 \n",
      " 38  DAYS_LAST_PHONE_CHANGE       307510 non-null  float64 \n",
      " 39  FLAG_DOCUMENT_3              307511 non-null  int64   \n",
      " 40  AMT_REQ_CREDIT_BUREAU_HOUR   307511 non-null  float64 \n",
      " 41  AMT_REQ_CREDIT_BUREAU_DAY    307511 non-null  float64 \n",
      " 42  AMT_REQ_CREDIT_BUREAU_WEEK   307511 non-null  float64 \n",
      " 43  AMT_REQ_CREDIT_BUREAU_MON    307511 non-null  float64 \n",
      " 44  AMT_REQ_CREDIT_BUREAU_QRT    307511 non-null  float64 \n",
      " 45  AMT_REQ_CREDIT_BUREAU_YEAR   307511 non-null  float64 \n",
      " 46  AMT_INCOME_RANGE             307279 non-null  category\n",
      " 47  AMT_CREDIT_RANGE             307511 non-null  category\n",
      " 48  AMT_GOODS_PRICE_RANGE        307233 non-null  category\n",
      " 49  AGE                          307511 non-null  float64 \n",
      " 50  AGE_GROUP                    307511 non-null  category\n",
      " 51  YEARS_EMPLOYED               307511 non-null  float64 \n",
      " 52  EMPLOYEMENT_YEARS            252135 non-null  category\n",
      "dtypes: category(24), float64(20), int64(9)\n",
      "memory usage: 75.1 MB\n"
     ]
    }
   ],
   "source": [
    "data1.info()"
   ]
  },
  {
   "cell_type": "markdown",
   "id": "029c4435",
   "metadata": {},
   "source": [
    "#### Key Takeaways"
   ]
  },
  {
   "cell_type": "markdown",
   "id": "0d2175f9",
   "metadata": {},
   "source": [
    "We have 53 columns and we will move ahead with Data Analysis on these columns."
   ]
  },
  {
   "cell_type": "markdown",
   "id": "3453fe53",
   "metadata": {},
   "source": [
    "## Univariate Analysis of problem statement II"
   ]
  },
  {
   "cell_type": "code",
   "execution_count": null,
   "id": "099a4803",
   "metadata": {},
   "outputs": [],
   "source": [
    "#11 Examining Employment_Year in relation to Loan Repayment Status"
   ]
  },
  {
   "cell_type": "code",
   "execution_count": 67,
   "id": "8b52a8b0",
   "metadata": {},
   "outputs": [
    {
     "data": {
      "image/png": "[encoded data removed]",
      "text/plain": [
       "<Figure size 1500x500 with 2 Axes>"
      ]
     },
     "metadata": {},
     "output_type": "display_data"
    }
   ],
   "source": [
    "# Calculate the percentage of defaulters for each employment year\n",
    "employment_year_percentages = data1.groupby('EMPLOYEMENT_YEARS')['TARGET'].mean() * 100\n",
    "\n",
    "# Create a figure with subplots\n",
    "fig, (ax1, ax2) = plt.subplots(1, 2, figsize=(15, 5))\n",
    "\n",
    "# Plot 1: Count of individuals in each employment year (log scale)\n",
    "sns.countplot(data=data1, x='EMPLOYEMENT_YEARS', hue='TARGET', ax=ax1)\n",
    "ax1.set_xlabel('Employment Years ')\n",
    "ax1.set_ylabel('Count (log scale)')  # Update the y-axis label\n",
    "ax1.set_yscale('log')  # Set the y-axis to logarithmic scale\n",
    "ax1.set_title('Employment Years vs. Count (log scale)')\n",
    "ax1.legend(title='Loan Repayment Status', labels=['No Default', 'Default'])\n",
    "ax1.set_xticklabels(ax1.get_xticklabels(), rotation=45)\n",
    "\n",
    "# Plot 2: Percentage of defaulters in each employment year\n",
    "sns.barplot(x=employment_year_percentages.index, y=employment_year_percentages.values, ax=ax2)\n",
    "ax2.set_xlabel('Employment Years')\n",
    "ax2.set_ylabel('Percentage of Defaulters')\n",
    "ax2.set_title('Employment Years vs. Percentage of Defaulters')\n",
    "ax2.set_xticklabels(ax2.get_xticklabels(), rotation=45)\n",
    "\n",
    "# Adjust the layout\n",
    "plt.tight_layout()\n",
    "\n",
    "# Show the plots\n",
    "plt.show()\n"
   ]
  },
  {
   "cell_type": "markdown",
   "id": "6aad5acb",
   "metadata": {},
   "source": [
    "#### Key Takeaways "
   ]
  },
  {
   "cell_type": "markdown",
   "id": "e95af228",
   "metadata": {},
   "source": [
    "The majority of candidates with 0 to 5 years of job experience are defaulters. This category also has the greatest default rate, which is roughly 10%.\n",
    "Defaulting rate is continuously falling as employment years grow.\n",
    "with employees having 40+ years of experience, the default rate is less than 1%."
   ]
  },
  {
   "cell_type": "code",
   "execution_count": null,
   "id": "ededc654",
   "metadata": {},
   "outputs": [],
   "source": [
    "#12 Examining the amount of credit based on the status of loan payback"
   ]
  },
  {
   "cell_type": "code",
   "execution_count": 70,
   "id": "f243986c",
   "metadata": {},
   "outputs": [
    {
     "data": {
      "image/png": "[encoded data removed]",
      "text/plain": [
       "<Figure size 1500x500 with 2 Axes>"
      ]
     },
     "metadata": {},
     "output_type": "display_data"
    }
   ],
   "source": [
    "# Calculate the percentage of defaulters for each employment year\n",
    "employment_year_percentages = data1.groupby('AMT_CREDIT_RANGE')['TARGET'].mean() * 100\n",
    "\n",
    "# Create a figure with subplots\n",
    "fig, (ax1, ax2) = plt.subplots(1, 2, figsize=(15, 5))\n",
    "\n",
    "# Plot 1: Count of individuals in each employment year (log scale)\n",
    "sns.countplot(data=data1, x='AMT_CREDIT_RANGE', hue='TARGET', ax=ax1)\n",
    "ax1.set_xlabel('CREDIT RANGE')\n",
    "ax1.set_ylabel('Count')  # Update the y-axis label\n",
    "ax1.set_title('CREDIT RANGE vs. Count')\n",
    "ax1.legend(title='Loan Repayment Status', labels=['No Default', 'Default'])\n",
    "ax1.set_xticklabels(ax1.get_xticklabels(), rotation=45)\n",
    "\n",
    "# Plot 2: Percentage of defaulters in each employment year\n",
    "sns.barplot(x=employment_year_percentages.index, y=employment_year_percentages.values, ax=ax2)\n",
    "ax2.set_xlabel('CREDIT RANGE')\n",
    "ax2.set_ylabel('Percentage of Defaulters')\n",
    "ax2.set_title('CREDIT RANGE vs. Percentage of Defaulters')\n",
    "ax2.set_xticklabels(ax2.get_xticklabels(), rotation=45)\n",
    "\n",
    "# Adjust the layout\n",
    "plt.tight_layout()\n",
    "\n",
    "# Show the plots\n",
    "plt.show()"
   ]
  },
  {
   "cell_type": "markdown",
   "id": "520b8208",
   "metadata": {},
   "source": [
    "#### Key Takeaways"
   ]
  },
  {
   "cell_type": "markdown",
   "id": "d40a2ff0",
   "metadata": {},
   "source": [
    "A large proportion of applicants have loans between two and three lakhs, with 10 lakhs being the next highest amount.\n",
    "More people who receive loans between 3-6 lakhs default than those than other loan range."
   ]
  },
  {
   "cell_type": "code",
   "execution_count": null,
   "id": "75b5688c",
   "metadata": {},
   "outputs": [],
   "source": [
    "#13 Examining the Amount_Income Range in relation to the loan repayment status"
   ]
  },
  {
   "cell_type": "code",
   "execution_count": 71,
   "id": "f807475c",
   "metadata": {},
   "outputs": [
    {
     "data": {
      "image/png": "[encoded data removed]",
      "text/plain": [
       "<Figure size 1500x500 with 2 Axes>"
      ]
     },
     "metadata": {},
     "output_type": "display_data"
    }
   ],
   "source": [
    "# Calculate the percentage of defaulters for each employment year\n",
    "employment_year_percentages = data1.groupby('AMT_INCOME_RANGE')['TARGET'].mean() * 100\n",
    "\n",
    "# Create a figure with subplots\n",
    "fig, (ax1, ax2) = plt.subplots(1, 2, figsize=(15, 5))\n",
    "\n",
    "# Plot 1: Count of individuals in each employment year (log scale)\n",
    "sns.countplot(data=data1, x='AMT_INCOME_RANGE', hue='TARGET', ax=ax1)\n",
    "ax1.set_xlabel('INCOME RANGE')\n",
    "ax1.set_ylabel('Count')  # Update the y-axis label\n",
    "ax1.set_title('INCOME RANGE vs. Count')\n",
    "ax1.legend(title='Loan Repayment Status', labels=['No Default', 'Default'])\n",
    "ax1.set_xticklabels(ax1.get_xticklabels(), rotation=45)\n",
    "\n",
    "# Plot 2: Percentage of defaulters in each employment year\n",
    "sns.barplot(x=employment_year_percentages.index, y=employment_year_percentages.values, ax=ax2)\n",
    "ax2.set_xlabel('INCOME RANGE')\n",
    "ax2.set_ylabel('Percentage of Defaulters')\n",
    "ax2.set_title('INCOME RANGE vs. Percentage of Defaulters')\n",
    "ax2.set_xticklabels(ax2.get_xticklabels(), rotation=45)\n",
    "\n",
    "# Adjust the layout\n",
    "plt.tight_layout()\n",
    "\n",
    "# Show the plots\n",
    "plt.show()"
   ]
  },
  {
   "cell_type": "markdown",
   "id": "4ada935a",
   "metadata": {},
   "source": [
    "#### Key Takeaways"
   ]
  },
  {
   "cell_type": "markdown",
   "id": "03064f1f",
   "metadata": {},
   "source": [
    "Most applications have an income of less than three lakhs.\n",
    "\n",
    "A lower-than-3-lakh income application carries a substantial risk of default.\n",
    "\n",
    "Applicants with incomes between 7 and 8 Lakhas have a lower default rate."
   ]
  },
  {
   "cell_type": "code",
   "execution_count": null,
   "id": "8611e438",
   "metadata": {},
   "outputs": [],
   "source": []
  },
  {
   "cell_type": "code",
   "execution_count": null,
   "id": "055bd311",
   "metadata": {},
   "outputs": [],
   "source": []
  },
  {
   "cell_type": "code",
   "execution_count": null,
   "id": "c80a7b3d",
   "metadata": {},
   "outputs": [],
   "source": []
  },
  {
   "cell_type": "code",
   "execution_count": null,
   "id": "c435580e",
   "metadata": {},
   "outputs": [],
   "source": []
  },
  {
   "cell_type": "code",
   "execution_count": null,
   "id": "930e5436",
   "metadata": {},
   "outputs": [],
   "source": []
  },
  {
   "cell_type": "code",
   "execution_count": null,
   "id": "abc1226b",
   "metadata": {},
   "outputs": [],
   "source": []
  }
 ],
 "metadata": {
  "kernelspec": {
   "display_name": "Python 3 (ipykernel)",
   "language": "python",
   "name": "python3"
  },
  "language_info": {
   "codemirror_mode": {
    "name": "ipython",
    "version": 3
   },
   "file_extension": ".py",
   "mimetype": "text/x-python",
   "name": "python",
   "nbconvert_exporter": "python",
   "pygments_lexer": "ipython3",
   "version": "3.11.3"
  }
 },
 "nbformat": 4,
 "nbformat_minor": 5
}
